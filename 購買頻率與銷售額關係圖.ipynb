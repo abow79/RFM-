{
  "nbformat": 4,
  "nbformat_minor": 0,
  "metadata": {
    "colab": {
      "name": "購買頻率與銷售額關係圖.ipynb",
      "provenance": [],
      "collapsed_sections": []
    },
    "kernelspec": {
      "name": "python3",
      "display_name": "Python 3"
    },
    "accelerator": "GPU"
  },
  "cells": [
    {
      "cell_type": "code",
      "metadata": {
        "colab": {
          "base_uri": "https://localhost:8080/"
        },
        "id": "wBDdZsPJI7_j",
        "outputId": "db557bfd-4ba0-4d71-d87d-d62b059c02e0"
      },
      "source": [
        "# Colab資料夾設定方法\r\n",
        "import os \r\n",
        "from google.colab import drive\r\n",
        "drive.mount('/content/drive')"
      ],
      "execution_count": null,
      "outputs": [
        {
          "output_type": "stream",
          "text": [
            "Drive already mounted at /content/drive; to attempt to forcibly remount, call drive.mount(\"/content/drive\", force_remount=True).\n"
          ],
          "name": "stdout"
        }
      ]
    },
    {
      "cell_type": "code",
      "metadata": {
        "colab": {
          "base_uri": "https://localhost:8080/"
        },
        "id": "-t-E0wxlUepN",
        "outputId": "b4289025-f5b3-4506-ef81-10d57afa4236"
      },
      "source": [
        "# 查看現在工作路徑\r\n",
        "#!pwd\r\n",
        "#!ls\r\n",
        "\r\n",
        "os.chdir(\"/content/drive/MyDrive/RFM專題\")  #切換該目錄\r\n",
        "#os.listdir()  確認目錄內容\r\n",
        "!ls"
      ],
      "execution_count": null,
      "outputs": [
        {
          "output_type": "stream",
          "text": [
            " 201910_apple_AND_productID.csv\n",
            " 201910_apple.csv\n",
            " AI_Applications-master\n",
            "'CSV檔案-只留Apple這個品牌的資料(捷近)'\n",
            " 來自凱元「團專-分析高活躍度客戶偏好的商品.ipynb」的副本\n",
            " 團專-分析常貴客偏好消費商品.ipynb\n",
            " 「團專-分析高活躍度客戶偏好的商品.ipynb」的副本\n",
            " 「常貴客熱銷圖.ipynb」的副本\n",
            "'常貴客熱銷圖(原本).ipynb'\n",
            " 書榜LINE裡面的上傳的表格\n",
            " 購買頻率與銷售額關係圖.ipynb\n"
          ],
          "name": "stdout"
        }
      ]
    },
    {
      "cell_type": "code",
      "metadata": {
        "id": "mFgUC5NmUer2"
      },
      "source": [
        "import pandas as pd \r\n",
        "import numpy as np\r\n",
        "import datetime\r\n",
        "import platform"
      ],
      "execution_count": null,
      "outputs": []
    },
    {
      "cell_type": "code",
      "metadata": {
        "id": "UhEJ29WHi-6f"
      },
      "source": [
        "df=pd.read_csv(\"201910_apple.csv\",encoding='utf-8')\r\n",
        "#df.shape"
      ],
      "execution_count": null,
      "outputs": []
    },
    {
      "cell_type": "code",
      "metadata": {
        "id": "EI2BvrN2UeuW",
        "colab": {
          "base_uri": "https://localhost:8080/",
          "height": 776
        },
        "outputId": "e78161a4-b90f-4c40-a32a-85aaf0e1ecf9"
      },
      "source": [
        "df[\"order_date\"]=df[\"event_time\"].values  \r\n",
        "df"
      ],
      "execution_count": null,
      "outputs": [
        {
          "output_type": "execute_result",
          "data": {
            "text/html": [
              "<div>\n",
              "<style scoped>\n",
              "    .dataframe tbody tr th:only-of-type {\n",
              "        vertical-align: middle;\n",
              "    }\n",
              "\n",
              "    .dataframe tbody tr th {\n",
              "        vertical-align: top;\n",
              "    }\n",
              "\n",
              "    .dataframe thead th {\n",
              "        text-align: right;\n",
              "    }\n",
              "</style>\n",
              "<table border=\"1\" class=\"dataframe\">\n",
              "  <thead>\n",
              "    <tr style=\"text-align: right;\">\n",
              "      <th></th>\n",
              "      <th>Unnamed: 0</th>\n",
              "      <th>event_time</th>\n",
              "      <th>event_type</th>\n",
              "      <th>product_id</th>\n",
              "      <th>category_id</th>\n",
              "      <th>category_code</th>\n",
              "      <th>brand</th>\n",
              "      <th>price</th>\n",
              "      <th>user_id</th>\n",
              "      <th>user_session</th>\n",
              "      <th>order_date</th>\n",
              "    </tr>\n",
              "  </thead>\n",
              "  <tbody>\n",
              "    <tr>\n",
              "      <th>0</th>\n",
              "      <td>4</td>\n",
              "      <td>2019-10-01 00:00:04 UTC</td>\n",
              "      <td>view</td>\n",
              "      <td>1004237</td>\n",
              "      <td>2053013555631882655</td>\n",
              "      <td>electronics.smartphone</td>\n",
              "      <td>apple</td>\n",
              "      <td>1081.98</td>\n",
              "      <td>535871217</td>\n",
              "      <td>c6bd7419-2748-4c56-95b4-8cec9ff8b80d</td>\n",
              "      <td>2019-10-01 00:00:04 UTC</td>\n",
              "    </tr>\n",
              "    <tr>\n",
              "      <th>1</th>\n",
              "      <td>19</td>\n",
              "      <td>2019-10-01 00:00:19 UTC</td>\n",
              "      <td>view</td>\n",
              "      <td>1005135</td>\n",
              "      <td>2053013555631882655</td>\n",
              "      <td>electronics.smartphone</td>\n",
              "      <td>apple</td>\n",
              "      <td>1747.79</td>\n",
              "      <td>535871217</td>\n",
              "      <td>c6bd7419-2748-4c56-95b4-8cec9ff8b80d</td>\n",
              "      <td>2019-10-01 00:00:19 UTC</td>\n",
              "    </tr>\n",
              "    <tr>\n",
              "      <th>2</th>\n",
              "      <td>20</td>\n",
              "      <td>2019-10-01 00:00:20 UTC</td>\n",
              "      <td>view</td>\n",
              "      <td>1003306</td>\n",
              "      <td>2053013555631882655</td>\n",
              "      <td>electronics.smartphone</td>\n",
              "      <td>apple</td>\n",
              "      <td>588.77</td>\n",
              "      <td>555446831</td>\n",
              "      <td>6ec635da-ea15-4a5d-96b4-c8ca9d38f89f</td>\n",
              "      <td>2019-10-01 00:00:20 UTC</td>\n",
              "    </tr>\n",
              "    <tr>\n",
              "      <th>3</th>\n",
              "      <td>25</td>\n",
              "      <td>2019-10-01 00:00:24 UTC</td>\n",
              "      <td>view</td>\n",
              "      <td>1003306</td>\n",
              "      <td>2053013555631882655</td>\n",
              "      <td>electronics.smartphone</td>\n",
              "      <td>apple</td>\n",
              "      <td>588.77</td>\n",
              "      <td>555446831</td>\n",
              "      <td>6ec635da-ea15-4a5d-96b4-c8ca9d38f89f</td>\n",
              "      <td>2019-10-01 00:00:24 UTC</td>\n",
              "    </tr>\n",
              "    <tr>\n",
              "      <th>4</th>\n",
              "      <td>51</td>\n",
              "      <td>2019-10-01 00:00:41 UTC</td>\n",
              "      <td>view</td>\n",
              "      <td>1003141</td>\n",
              "      <td>2053013555631882655</td>\n",
              "      <td>electronics.smartphone</td>\n",
              "      <td>apple</td>\n",
              "      <td>382.97</td>\n",
              "      <td>551377651</td>\n",
              "      <td>ca11a570-47da-4630-898b-9a03127703da</td>\n",
              "      <td>2019-10-01 00:00:41 UTC</td>\n",
              "    </tr>\n",
              "    <tr>\n",
              "      <th>...</th>\n",
              "      <td>...</td>\n",
              "      <td>...</td>\n",
              "      <td>...</td>\n",
              "      <td>...</td>\n",
              "      <td>...</td>\n",
              "      <td>...</td>\n",
              "      <td>...</td>\n",
              "      <td>...</td>\n",
              "      <td>...</td>\n",
              "      <td>...</td>\n",
              "      <td>...</td>\n",
              "    </tr>\n",
              "    <tr>\n",
              "      <th>4092647</th>\n",
              "      <td>42448699</td>\n",
              "      <td>2019-10-31 23:59:33 UTC</td>\n",
              "      <td>view</td>\n",
              "      <td>1004237</td>\n",
              "      <td>2053013555631882655</td>\n",
              "      <td>electronics.smartphone</td>\n",
              "      <td>apple</td>\n",
              "      <td>1091.33</td>\n",
              "      <td>519277091</td>\n",
              "      <td>62fadce6-aa4a-4dde-92fc-c04c22982df5</td>\n",
              "      <td>2019-10-31 23:59:33 UTC</td>\n",
              "    </tr>\n",
              "    <tr>\n",
              "      <th>4092648</th>\n",
              "      <td>42448706</td>\n",
              "      <td>2019-10-31 23:59:35 UTC</td>\n",
              "      <td>view</td>\n",
              "      <td>1002524</td>\n",
              "      <td>2053013555631882655</td>\n",
              "      <td>electronics.smartphone</td>\n",
              "      <td>apple</td>\n",
              "      <td>531.26</td>\n",
              "      <td>565404816</td>\n",
              "      <td>d9cf0ac4-c3ec-4e1f-83aa-326b1e7b1581</td>\n",
              "      <td>2019-10-31 23:59:35 UTC</td>\n",
              "    </tr>\n",
              "    <tr>\n",
              "      <th>4092649</th>\n",
              "      <td>42448722</td>\n",
              "      <td>2019-10-31 23:59:44 UTC</td>\n",
              "      <td>view</td>\n",
              "      <td>4804056</td>\n",
              "      <td>2053013554658804075</td>\n",
              "      <td>electronics.audio.headphone</td>\n",
              "      <td>apple</td>\n",
              "      <td>160.57</td>\n",
              "      <td>544501248</td>\n",
              "      <td>e330d051-37ad-4dc3-b1ee-ff16a28b7998</td>\n",
              "      <td>2019-10-31 23:59:44 UTC</td>\n",
              "    </tr>\n",
              "    <tr>\n",
              "      <th>4092650</th>\n",
              "      <td>42448728</td>\n",
              "      <td>2019-10-31 23:59:47 UTC</td>\n",
              "      <td>view</td>\n",
              "      <td>1005135</td>\n",
              "      <td>2053013555631882655</td>\n",
              "      <td>electronics.smartphone</td>\n",
              "      <td>apple</td>\n",
              "      <td>1665.36</td>\n",
              "      <td>536554637</td>\n",
              "      <td>814dd3f8-970e-4a98-8e84-9d3fb6375604</td>\n",
              "      <td>2019-10-31 23:59:47 UTC</td>\n",
              "    </tr>\n",
              "    <tr>\n",
              "      <th>4092651</th>\n",
              "      <td>42448740</td>\n",
              "      <td>2019-10-31 23:59:52 UTC</td>\n",
              "      <td>view</td>\n",
              "      <td>1002524</td>\n",
              "      <td>2053013555631882655</td>\n",
              "      <td>electronics.smartphone</td>\n",
              "      <td>apple</td>\n",
              "      <td>531.26</td>\n",
              "      <td>565404816</td>\n",
              "      <td>d9cf0ac4-c3ec-4e1f-83aa-326b1e7b1581</td>\n",
              "      <td>2019-10-31 23:59:52 UTC</td>\n",
              "    </tr>\n",
              "  </tbody>\n",
              "</table>\n",
              "<p>4092652 rows × 11 columns</p>\n",
              "</div>"
            ],
            "text/plain": [
              "         Unnamed: 0  ...               order_date\n",
              "0                 4  ...  2019-10-01 00:00:04 UTC\n",
              "1                19  ...  2019-10-01 00:00:19 UTC\n",
              "2                20  ...  2019-10-01 00:00:20 UTC\n",
              "3                25  ...  2019-10-01 00:00:24 UTC\n",
              "4                51  ...  2019-10-01 00:00:41 UTC\n",
              "...             ...  ...                      ...\n",
              "4092647    42448699  ...  2019-10-31 23:59:33 UTC\n",
              "4092648    42448706  ...  2019-10-31 23:59:35 UTC\n",
              "4092649    42448722  ...  2019-10-31 23:59:44 UTC\n",
              "4092650    42448728  ...  2019-10-31 23:59:47 UTC\n",
              "4092651    42448740  ...  2019-10-31 23:59:52 UTC\n",
              "\n",
              "[4092652 rows x 11 columns]"
            ]
          },
          "metadata": {
            "tags": []
          },
          "execution_count": 60
        }
      ]
    },
    {
      "cell_type": "code",
      "metadata": {
        "id": "DHerD610UexE"
      },
      "source": [
        "del df[\"event_time\"]"
      ],
      "execution_count": null,
      "outputs": []
    },
    {
      "cell_type": "code",
      "metadata": {
        "colab": {
          "base_uri": "https://localhost:8080/",
          "height": 589
        },
        "id": "d5m5HJ1eUey_",
        "outputId": "904a305d-a2fa-4560-aadd-1b840d78254e"
      },
      "source": [
        "#df\r\n",
        "df=df[[\"order_date\",\"event_type\",\"product_id\",\"category_id\",\"category_code\",\"brand\",\"price\",\"user_id\",\"user_session\"]] \r\n",
        "df"
      ],
      "execution_count": null,
      "outputs": [
        {
          "output_type": "execute_result",
          "data": {
            "text/html": [
              "<div>\n",
              "<style scoped>\n",
              "    .dataframe tbody tr th:only-of-type {\n",
              "        vertical-align: middle;\n",
              "    }\n",
              "\n",
              "    .dataframe tbody tr th {\n",
              "        vertical-align: top;\n",
              "    }\n",
              "\n",
              "    .dataframe thead th {\n",
              "        text-align: right;\n",
              "    }\n",
              "</style>\n",
              "<table border=\"1\" class=\"dataframe\">\n",
              "  <thead>\n",
              "    <tr style=\"text-align: right;\">\n",
              "      <th></th>\n",
              "      <th>order_date</th>\n",
              "      <th>event_type</th>\n",
              "      <th>product_id</th>\n",
              "      <th>category_id</th>\n",
              "      <th>category_code</th>\n",
              "      <th>brand</th>\n",
              "      <th>price</th>\n",
              "      <th>user_id</th>\n",
              "      <th>user_session</th>\n",
              "    </tr>\n",
              "  </thead>\n",
              "  <tbody>\n",
              "    <tr>\n",
              "      <th>0</th>\n",
              "      <td>2019-10-01 00:00:04 UTC</td>\n",
              "      <td>view</td>\n",
              "      <td>1004237</td>\n",
              "      <td>2053013555631882655</td>\n",
              "      <td>electronics.smartphone</td>\n",
              "      <td>apple</td>\n",
              "      <td>1081.98</td>\n",
              "      <td>535871217</td>\n",
              "      <td>c6bd7419-2748-4c56-95b4-8cec9ff8b80d</td>\n",
              "    </tr>\n",
              "    <tr>\n",
              "      <th>1</th>\n",
              "      <td>2019-10-01 00:00:19 UTC</td>\n",
              "      <td>view</td>\n",
              "      <td>1005135</td>\n",
              "      <td>2053013555631882655</td>\n",
              "      <td>electronics.smartphone</td>\n",
              "      <td>apple</td>\n",
              "      <td>1747.79</td>\n",
              "      <td>535871217</td>\n",
              "      <td>c6bd7419-2748-4c56-95b4-8cec9ff8b80d</td>\n",
              "    </tr>\n",
              "    <tr>\n",
              "      <th>2</th>\n",
              "      <td>2019-10-01 00:00:20 UTC</td>\n",
              "      <td>view</td>\n",
              "      <td>1003306</td>\n",
              "      <td>2053013555631882655</td>\n",
              "      <td>electronics.smartphone</td>\n",
              "      <td>apple</td>\n",
              "      <td>588.77</td>\n",
              "      <td>555446831</td>\n",
              "      <td>6ec635da-ea15-4a5d-96b4-c8ca9d38f89f</td>\n",
              "    </tr>\n",
              "    <tr>\n",
              "      <th>3</th>\n",
              "      <td>2019-10-01 00:00:24 UTC</td>\n",
              "      <td>view</td>\n",
              "      <td>1003306</td>\n",
              "      <td>2053013555631882655</td>\n",
              "      <td>electronics.smartphone</td>\n",
              "      <td>apple</td>\n",
              "      <td>588.77</td>\n",
              "      <td>555446831</td>\n",
              "      <td>6ec635da-ea15-4a5d-96b4-c8ca9d38f89f</td>\n",
              "    </tr>\n",
              "    <tr>\n",
              "      <th>4</th>\n",
              "      <td>2019-10-01 00:00:41 UTC</td>\n",
              "      <td>view</td>\n",
              "      <td>1003141</td>\n",
              "      <td>2053013555631882655</td>\n",
              "      <td>electronics.smartphone</td>\n",
              "      <td>apple</td>\n",
              "      <td>382.97</td>\n",
              "      <td>551377651</td>\n",
              "      <td>ca11a570-47da-4630-898b-9a03127703da</td>\n",
              "    </tr>\n",
              "    <tr>\n",
              "      <th>...</th>\n",
              "      <td>...</td>\n",
              "      <td>...</td>\n",
              "      <td>...</td>\n",
              "      <td>...</td>\n",
              "      <td>...</td>\n",
              "      <td>...</td>\n",
              "      <td>...</td>\n",
              "      <td>...</td>\n",
              "      <td>...</td>\n",
              "    </tr>\n",
              "    <tr>\n",
              "      <th>4092647</th>\n",
              "      <td>2019-10-31 23:59:33 UTC</td>\n",
              "      <td>view</td>\n",
              "      <td>1004237</td>\n",
              "      <td>2053013555631882655</td>\n",
              "      <td>electronics.smartphone</td>\n",
              "      <td>apple</td>\n",
              "      <td>1091.33</td>\n",
              "      <td>519277091</td>\n",
              "      <td>62fadce6-aa4a-4dde-92fc-c04c22982df5</td>\n",
              "    </tr>\n",
              "    <tr>\n",
              "      <th>4092648</th>\n",
              "      <td>2019-10-31 23:59:35 UTC</td>\n",
              "      <td>view</td>\n",
              "      <td>1002524</td>\n",
              "      <td>2053013555631882655</td>\n",
              "      <td>electronics.smartphone</td>\n",
              "      <td>apple</td>\n",
              "      <td>531.26</td>\n",
              "      <td>565404816</td>\n",
              "      <td>d9cf0ac4-c3ec-4e1f-83aa-326b1e7b1581</td>\n",
              "    </tr>\n",
              "    <tr>\n",
              "      <th>4092649</th>\n",
              "      <td>2019-10-31 23:59:44 UTC</td>\n",
              "      <td>view</td>\n",
              "      <td>4804056</td>\n",
              "      <td>2053013554658804075</td>\n",
              "      <td>electronics.audio.headphone</td>\n",
              "      <td>apple</td>\n",
              "      <td>160.57</td>\n",
              "      <td>544501248</td>\n",
              "      <td>e330d051-37ad-4dc3-b1ee-ff16a28b7998</td>\n",
              "    </tr>\n",
              "    <tr>\n",
              "      <th>4092650</th>\n",
              "      <td>2019-10-31 23:59:47 UTC</td>\n",
              "      <td>view</td>\n",
              "      <td>1005135</td>\n",
              "      <td>2053013555631882655</td>\n",
              "      <td>electronics.smartphone</td>\n",
              "      <td>apple</td>\n",
              "      <td>1665.36</td>\n",
              "      <td>536554637</td>\n",
              "      <td>814dd3f8-970e-4a98-8e84-9d3fb6375604</td>\n",
              "    </tr>\n",
              "    <tr>\n",
              "      <th>4092651</th>\n",
              "      <td>2019-10-31 23:59:52 UTC</td>\n",
              "      <td>view</td>\n",
              "      <td>1002524</td>\n",
              "      <td>2053013555631882655</td>\n",
              "      <td>electronics.smartphone</td>\n",
              "      <td>apple</td>\n",
              "      <td>531.26</td>\n",
              "      <td>565404816</td>\n",
              "      <td>d9cf0ac4-c3ec-4e1f-83aa-326b1e7b1581</td>\n",
              "    </tr>\n",
              "  </tbody>\n",
              "</table>\n",
              "<p>4092652 rows × 9 columns</p>\n",
              "</div>"
            ],
            "text/plain": [
              "                      order_date  ...                          user_session\n",
              "0        2019-10-01 00:00:04 UTC  ...  c6bd7419-2748-4c56-95b4-8cec9ff8b80d\n",
              "1        2019-10-01 00:00:19 UTC  ...  c6bd7419-2748-4c56-95b4-8cec9ff8b80d\n",
              "2        2019-10-01 00:00:20 UTC  ...  6ec635da-ea15-4a5d-96b4-c8ca9d38f89f\n",
              "3        2019-10-01 00:00:24 UTC  ...  6ec635da-ea15-4a5d-96b4-c8ca9d38f89f\n",
              "4        2019-10-01 00:00:41 UTC  ...  ca11a570-47da-4630-898b-9a03127703da\n",
              "...                          ...  ...                                   ...\n",
              "4092647  2019-10-31 23:59:33 UTC  ...  62fadce6-aa4a-4dde-92fc-c04c22982df5\n",
              "4092648  2019-10-31 23:59:35 UTC  ...  d9cf0ac4-c3ec-4e1f-83aa-326b1e7b1581\n",
              "4092649  2019-10-31 23:59:44 UTC  ...  e330d051-37ad-4dc3-b1ee-ff16a28b7998\n",
              "4092650  2019-10-31 23:59:47 UTC  ...  814dd3f8-970e-4a98-8e84-9d3fb6375604\n",
              "4092651  2019-10-31 23:59:52 UTC  ...  d9cf0ac4-c3ec-4e1f-83aa-326b1e7b1581\n",
              "\n",
              "[4092652 rows x 9 columns]"
            ]
          },
          "metadata": {
            "tags": []
          },
          "execution_count": 62
        }
      ]
    },
    {
      "cell_type": "code",
      "metadata": {
        "colab": {
          "base_uri": "https://localhost:8080/",
          "height": 674
        },
        "id": "6S8Z9_43UfCL",
        "outputId": "57e692cf-59fc-4a7a-b2f1-518a76c06e9c"
      },
      "source": [
        "df.query('event_type == \"purchase\"',inplace=True)\r\n",
        "df"
      ],
      "execution_count": null,
      "outputs": [
        {
          "output_type": "stream",
          "text": [
            "/usr/local/lib/python3.6/dist-packages/ipykernel_launcher.py:1: SettingWithCopyWarning: \n",
            "A value is trying to be set on a copy of a slice from a DataFrame\n",
            "\n",
            "See the caveats in the documentation: https://pandas.pydata.org/pandas-docs/stable/user_guide/indexing.html#returning-a-view-versus-a-copy\n",
            "  \"\"\"Entry point for launching an IPython kernel.\n"
          ],
          "name": "stderr"
        },
        {
          "output_type": "execute_result",
          "data": {
            "text/html": [
              "<div>\n",
              "<style scoped>\n",
              "    .dataframe tbody tr th:only-of-type {\n",
              "        vertical-align: middle;\n",
              "    }\n",
              "\n",
              "    .dataframe tbody tr th {\n",
              "        vertical-align: top;\n",
              "    }\n",
              "\n",
              "    .dataframe thead th {\n",
              "        text-align: right;\n",
              "    }\n",
              "</style>\n",
              "<table border=\"1\" class=\"dataframe\">\n",
              "  <thead>\n",
              "    <tr style=\"text-align: right;\">\n",
              "      <th></th>\n",
              "      <th>order_date</th>\n",
              "      <th>event_type</th>\n",
              "      <th>product_id</th>\n",
              "      <th>category_id</th>\n",
              "      <th>category_code</th>\n",
              "      <th>brand</th>\n",
              "      <th>price</th>\n",
              "      <th>user_id</th>\n",
              "      <th>user_session</th>\n",
              "    </tr>\n",
              "  </thead>\n",
              "  <tbody>\n",
              "    <tr>\n",
              "      <th>29</th>\n",
              "      <td>2019-10-01 00:04:37 UTC</td>\n",
              "      <td>purchase</td>\n",
              "      <td>1002532</td>\n",
              "      <td>2053013555631882655</td>\n",
              "      <td>electronics.smartphone</td>\n",
              "      <td>apple</td>\n",
              "      <td>642.69</td>\n",
              "      <td>551377651</td>\n",
              "      <td>3c80f0d6-e9ec-4181-8c5c-837a30be2d68</td>\n",
              "    </tr>\n",
              "    <tr>\n",
              "      <th>54</th>\n",
              "      <td>2019-10-01 00:09:26 UTC</td>\n",
              "      <td>purchase</td>\n",
              "      <td>4804055</td>\n",
              "      <td>2053013554658804075</td>\n",
              "      <td>electronics.audio.headphone</td>\n",
              "      <td>apple</td>\n",
              "      <td>189.91</td>\n",
              "      <td>524601178</td>\n",
              "      <td>2af9b570-0942-4dcd-8f25-4d84fba82553</td>\n",
              "    </tr>\n",
              "    <tr>\n",
              "      <th>57</th>\n",
              "      <td>2019-10-01 00:09:54 UTC</td>\n",
              "      <td>purchase</td>\n",
              "      <td>4804056</td>\n",
              "      <td>2053013554658804075</td>\n",
              "      <td>electronics.audio.headphone</td>\n",
              "      <td>apple</td>\n",
              "      <td>161.98</td>\n",
              "      <td>551377651</td>\n",
              "      <td>3c80f0d6-e9ec-4181-8c5c-837a30be2d68</td>\n",
              "    </tr>\n",
              "    <tr>\n",
              "      <th>59</th>\n",
              "      <td>2019-10-01 00:10:08 UTC</td>\n",
              "      <td>purchase</td>\n",
              "      <td>1002524</td>\n",
              "      <td>2053013555631882655</td>\n",
              "      <td>electronics.smartphone</td>\n",
              "      <td>apple</td>\n",
              "      <td>515.67</td>\n",
              "      <td>524325294</td>\n",
              "      <td>0b74a829-f9d7-4654-b5b0-35bc9822c238</td>\n",
              "    </tr>\n",
              "    <tr>\n",
              "      <th>69</th>\n",
              "      <td>2019-10-01 00:12:14 UTC</td>\n",
              "      <td>purchase</td>\n",
              "      <td>4802036</td>\n",
              "      <td>2053013554658804075</td>\n",
              "      <td>electronics.audio.headphone</td>\n",
              "      <td>apple</td>\n",
              "      <td>171.56</td>\n",
              "      <td>533624186</td>\n",
              "      <td>e5ac3caa-e6d5-4d6b-ae06-2c18cd9ca683</td>\n",
              "    </tr>\n",
              "    <tr>\n",
              "      <th>...</th>\n",
              "      <td>...</td>\n",
              "      <td>...</td>\n",
              "      <td>...</td>\n",
              "      <td>...</td>\n",
              "      <td>...</td>\n",
              "      <td>...</td>\n",
              "      <td>...</td>\n",
              "      <td>...</td>\n",
              "      <td>...</td>\n",
              "    </tr>\n",
              "    <tr>\n",
              "      <th>4092533</th>\n",
              "      <td>2019-10-31 23:49:30 UTC</td>\n",
              "      <td>purchase</td>\n",
              "      <td>1003316</td>\n",
              "      <td>2053013555631882655</td>\n",
              "      <td>electronics.smartphone</td>\n",
              "      <td>apple</td>\n",
              "      <td>928.38</td>\n",
              "      <td>544501248</td>\n",
              "      <td>8ae7872b-55c5-4e61-ab65-803091bacd7c</td>\n",
              "    </tr>\n",
              "    <tr>\n",
              "      <th>4092535</th>\n",
              "      <td>2019-10-31 23:49:32 UTC</td>\n",
              "      <td>purchase</td>\n",
              "      <td>1002524</td>\n",
              "      <td>2053013555631882655</td>\n",
              "      <td>electronics.smartphone</td>\n",
              "      <td>apple</td>\n",
              "      <td>531.26</td>\n",
              "      <td>516662286</td>\n",
              "      <td>d1b46fb7-cf95-4b40-9460-f7abde16c4d3</td>\n",
              "    </tr>\n",
              "    <tr>\n",
              "      <th>4092615</th>\n",
              "      <td>2019-10-31 23:56:03 UTC</td>\n",
              "      <td>purchase</td>\n",
              "      <td>1003306</td>\n",
              "      <td>2053013555631882655</td>\n",
              "      <td>electronics.smartphone</td>\n",
              "      <td>apple</td>\n",
              "      <td>577.89</td>\n",
              "      <td>512717356</td>\n",
              "      <td>f35ac37c-9573-4e30-b3d9-c09bb0b95a2b</td>\n",
              "    </tr>\n",
              "    <tr>\n",
              "      <th>4092625</th>\n",
              "      <td>2019-10-31 23:56:53 UTC</td>\n",
              "      <td>purchase</td>\n",
              "      <td>1004240</td>\n",
              "      <td>2053013555631882655</td>\n",
              "      <td>electronics.smartphone</td>\n",
              "      <td>apple</td>\n",
              "      <td>1054.60</td>\n",
              "      <td>533892594</td>\n",
              "      <td>3a5a3b01-2ab1-4a1d-a202-30d336e0057b</td>\n",
              "    </tr>\n",
              "    <tr>\n",
              "      <th>4092645</th>\n",
              "      <td>2019-10-31 23:59:16 UTC</td>\n",
              "      <td>purchase</td>\n",
              "      <td>4804056</td>\n",
              "      <td>2053013554658804075</td>\n",
              "      <td>electronics.audio.headphone</td>\n",
              "      <td>apple</td>\n",
              "      <td>160.57</td>\n",
              "      <td>544501248</td>\n",
              "      <td>e330d051-37ad-4dc3-b1ee-ff16a28b7998</td>\n",
              "    </tr>\n",
              "  </tbody>\n",
              "</table>\n",
              "<p>142577 rows × 9 columns</p>\n",
              "</div>"
            ],
            "text/plain": [
              "                      order_date  ...                          user_session\n",
              "29       2019-10-01 00:04:37 UTC  ...  3c80f0d6-e9ec-4181-8c5c-837a30be2d68\n",
              "54       2019-10-01 00:09:26 UTC  ...  2af9b570-0942-4dcd-8f25-4d84fba82553\n",
              "57       2019-10-01 00:09:54 UTC  ...  3c80f0d6-e9ec-4181-8c5c-837a30be2d68\n",
              "59       2019-10-01 00:10:08 UTC  ...  0b74a829-f9d7-4654-b5b0-35bc9822c238\n",
              "69       2019-10-01 00:12:14 UTC  ...  e5ac3caa-e6d5-4d6b-ae06-2c18cd9ca683\n",
              "...                          ...  ...                                   ...\n",
              "4092533  2019-10-31 23:49:30 UTC  ...  8ae7872b-55c5-4e61-ab65-803091bacd7c\n",
              "4092535  2019-10-31 23:49:32 UTC  ...  d1b46fb7-cf95-4b40-9460-f7abde16c4d3\n",
              "4092615  2019-10-31 23:56:03 UTC  ...  f35ac37c-9573-4e30-b3d9-c09bb0b95a2b\n",
              "4092625  2019-10-31 23:56:53 UTC  ...  3a5a3b01-2ab1-4a1d-a202-30d336e0057b\n",
              "4092645  2019-10-31 23:59:16 UTC  ...  e330d051-37ad-4dc3-b1ee-ff16a28b7998\n",
              "\n",
              "[142577 rows x 9 columns]"
            ]
          },
          "metadata": {
            "tags": []
          },
          "execution_count": 63
        }
      ]
    },
    {
      "cell_type": "code",
      "metadata": {
        "id": "wyEyzACfUfgu",
        "colab": {
          "base_uri": "https://localhost:8080/",
          "height": 419
        },
        "outputId": "f506fb64-7807-4080-e03a-915d214924f9"
      },
      "source": [
        "#Python strip() 方法用于移除字符串头尾指定的字符（默认为空格或换行符）或字符序列\r\n",
        "#如果要直接改名稱的話 ==>df.rename(columns={\"order_date\":\"OrderDate\"}) \r\n",
        "df=df.drop(\"user_session\",axis=1)\r\n",
        "df"
      ],
      "execution_count": null,
      "outputs": [
        {
          "output_type": "execute_result",
          "data": {
            "text/html": [
              "<div>\n",
              "<style scoped>\n",
              "    .dataframe tbody tr th:only-of-type {\n",
              "        vertical-align: middle;\n",
              "    }\n",
              "\n",
              "    .dataframe tbody tr th {\n",
              "        vertical-align: top;\n",
              "    }\n",
              "\n",
              "    .dataframe thead th {\n",
              "        text-align: right;\n",
              "    }\n",
              "</style>\n",
              "<table border=\"1\" class=\"dataframe\">\n",
              "  <thead>\n",
              "    <tr style=\"text-align: right;\">\n",
              "      <th></th>\n",
              "      <th>order_date</th>\n",
              "      <th>event_type</th>\n",
              "      <th>product_id</th>\n",
              "      <th>category_id</th>\n",
              "      <th>category_code</th>\n",
              "      <th>brand</th>\n",
              "      <th>price</th>\n",
              "      <th>user_id</th>\n",
              "    </tr>\n",
              "  </thead>\n",
              "  <tbody>\n",
              "    <tr>\n",
              "      <th>29</th>\n",
              "      <td>2019-10-01 00:04:37 UTC</td>\n",
              "      <td>purchase</td>\n",
              "      <td>1002532</td>\n",
              "      <td>2053013555631882655</td>\n",
              "      <td>electronics.smartphone</td>\n",
              "      <td>apple</td>\n",
              "      <td>642.69</td>\n",
              "      <td>551377651</td>\n",
              "    </tr>\n",
              "    <tr>\n",
              "      <th>54</th>\n",
              "      <td>2019-10-01 00:09:26 UTC</td>\n",
              "      <td>purchase</td>\n",
              "      <td>4804055</td>\n",
              "      <td>2053013554658804075</td>\n",
              "      <td>electronics.audio.headphone</td>\n",
              "      <td>apple</td>\n",
              "      <td>189.91</td>\n",
              "      <td>524601178</td>\n",
              "    </tr>\n",
              "    <tr>\n",
              "      <th>57</th>\n",
              "      <td>2019-10-01 00:09:54 UTC</td>\n",
              "      <td>purchase</td>\n",
              "      <td>4804056</td>\n",
              "      <td>2053013554658804075</td>\n",
              "      <td>electronics.audio.headphone</td>\n",
              "      <td>apple</td>\n",
              "      <td>161.98</td>\n",
              "      <td>551377651</td>\n",
              "    </tr>\n",
              "    <tr>\n",
              "      <th>59</th>\n",
              "      <td>2019-10-01 00:10:08 UTC</td>\n",
              "      <td>purchase</td>\n",
              "      <td>1002524</td>\n",
              "      <td>2053013555631882655</td>\n",
              "      <td>electronics.smartphone</td>\n",
              "      <td>apple</td>\n",
              "      <td>515.67</td>\n",
              "      <td>524325294</td>\n",
              "    </tr>\n",
              "    <tr>\n",
              "      <th>69</th>\n",
              "      <td>2019-10-01 00:12:14 UTC</td>\n",
              "      <td>purchase</td>\n",
              "      <td>4802036</td>\n",
              "      <td>2053013554658804075</td>\n",
              "      <td>electronics.audio.headphone</td>\n",
              "      <td>apple</td>\n",
              "      <td>171.56</td>\n",
              "      <td>533624186</td>\n",
              "    </tr>\n",
              "    <tr>\n",
              "      <th>...</th>\n",
              "      <td>...</td>\n",
              "      <td>...</td>\n",
              "      <td>...</td>\n",
              "      <td>...</td>\n",
              "      <td>...</td>\n",
              "      <td>...</td>\n",
              "      <td>...</td>\n",
              "      <td>...</td>\n",
              "    </tr>\n",
              "    <tr>\n",
              "      <th>4092533</th>\n",
              "      <td>2019-10-31 23:49:30 UTC</td>\n",
              "      <td>purchase</td>\n",
              "      <td>1003316</td>\n",
              "      <td>2053013555631882655</td>\n",
              "      <td>electronics.smartphone</td>\n",
              "      <td>apple</td>\n",
              "      <td>928.38</td>\n",
              "      <td>544501248</td>\n",
              "    </tr>\n",
              "    <tr>\n",
              "      <th>4092535</th>\n",
              "      <td>2019-10-31 23:49:32 UTC</td>\n",
              "      <td>purchase</td>\n",
              "      <td>1002524</td>\n",
              "      <td>2053013555631882655</td>\n",
              "      <td>electronics.smartphone</td>\n",
              "      <td>apple</td>\n",
              "      <td>531.26</td>\n",
              "      <td>516662286</td>\n",
              "    </tr>\n",
              "    <tr>\n",
              "      <th>4092615</th>\n",
              "      <td>2019-10-31 23:56:03 UTC</td>\n",
              "      <td>purchase</td>\n",
              "      <td>1003306</td>\n",
              "      <td>2053013555631882655</td>\n",
              "      <td>electronics.smartphone</td>\n",
              "      <td>apple</td>\n",
              "      <td>577.89</td>\n",
              "      <td>512717356</td>\n",
              "    </tr>\n",
              "    <tr>\n",
              "      <th>4092625</th>\n",
              "      <td>2019-10-31 23:56:53 UTC</td>\n",
              "      <td>purchase</td>\n",
              "      <td>1004240</td>\n",
              "      <td>2053013555631882655</td>\n",
              "      <td>electronics.smartphone</td>\n",
              "      <td>apple</td>\n",
              "      <td>1054.60</td>\n",
              "      <td>533892594</td>\n",
              "    </tr>\n",
              "    <tr>\n",
              "      <th>4092645</th>\n",
              "      <td>2019-10-31 23:59:16 UTC</td>\n",
              "      <td>purchase</td>\n",
              "      <td>4804056</td>\n",
              "      <td>2053013554658804075</td>\n",
              "      <td>electronics.audio.headphone</td>\n",
              "      <td>apple</td>\n",
              "      <td>160.57</td>\n",
              "      <td>544501248</td>\n",
              "    </tr>\n",
              "  </tbody>\n",
              "</table>\n",
              "<p>142577 rows × 8 columns</p>\n",
              "</div>"
            ],
            "text/plain": [
              "                      order_date event_type  ...    price    user_id\n",
              "29       2019-10-01 00:04:37 UTC   purchase  ...   642.69  551377651\n",
              "54       2019-10-01 00:09:26 UTC   purchase  ...   189.91  524601178\n",
              "57       2019-10-01 00:09:54 UTC   purchase  ...   161.98  551377651\n",
              "59       2019-10-01 00:10:08 UTC   purchase  ...   515.67  524325294\n",
              "69       2019-10-01 00:12:14 UTC   purchase  ...   171.56  533624186\n",
              "...                          ...        ...  ...      ...        ...\n",
              "4092533  2019-10-31 23:49:30 UTC   purchase  ...   928.38  544501248\n",
              "4092535  2019-10-31 23:49:32 UTC   purchase  ...   531.26  516662286\n",
              "4092615  2019-10-31 23:56:03 UTC   purchase  ...   577.89  512717356\n",
              "4092625  2019-10-31 23:56:53 UTC   purchase  ...  1054.60  533892594\n",
              "4092645  2019-10-31 23:59:16 UTC   purchase  ...   160.57  544501248\n",
              "\n",
              "[142577 rows x 8 columns]"
            ]
          },
          "metadata": {
            "tags": []
          },
          "execution_count": 64
        }
      ]
    },
    {
      "cell_type": "code",
      "metadata": {
        "colab": {
          "base_uri": "https://localhost:8080/"
        },
        "id": "SWIKDMmyf6Sd",
        "outputId": "38c758d7-7785-430b-d94a-ca47d6c296f9"
      },
      "source": [
        "print(df[\"price\"].dtypes) #查看欄位的資料類型"
      ],
      "execution_count": null,
      "outputs": [
        {
          "output_type": "stream",
          "text": [
            "float64\n"
          ],
          "name": "stdout"
        }
      ]
    },
    {
      "cell_type": "code",
      "metadata": {
        "id": "EEOpwXrpiv-V"
      },
      "source": [
        "#空值列全部刪除\r\n",
        "df=df.dropna()"
      ],
      "execution_count": null,
      "outputs": []
    },
    {
      "cell_type": "code",
      "metadata": {
        "colab": {
          "base_uri": "https://localhost:8080/",
          "height": 419
        },
        "id": "c2P8SCBwkBXN",
        "outputId": "376d8a6b-89da-4d17-db51-b91ff126776b"
      },
      "source": [
        "df=df[[\"user_id\",\"event_type\",\"product_id\",\"category_id\",\"category_code\",\"brand\",\"price\",\"order_date\"]] \r\n",
        "df"
      ],
      "execution_count": null,
      "outputs": [
        {
          "output_type": "execute_result",
          "data": {
            "text/html": [
              "<div>\n",
              "<style scoped>\n",
              "    .dataframe tbody tr th:only-of-type {\n",
              "        vertical-align: middle;\n",
              "    }\n",
              "\n",
              "    .dataframe tbody tr th {\n",
              "        vertical-align: top;\n",
              "    }\n",
              "\n",
              "    .dataframe thead th {\n",
              "        text-align: right;\n",
              "    }\n",
              "</style>\n",
              "<table border=\"1\" class=\"dataframe\">\n",
              "  <thead>\n",
              "    <tr style=\"text-align: right;\">\n",
              "      <th></th>\n",
              "      <th>user_id</th>\n",
              "      <th>event_type</th>\n",
              "      <th>product_id</th>\n",
              "      <th>category_id</th>\n",
              "      <th>category_code</th>\n",
              "      <th>brand</th>\n",
              "      <th>price</th>\n",
              "      <th>order_date</th>\n",
              "    </tr>\n",
              "  </thead>\n",
              "  <tbody>\n",
              "    <tr>\n",
              "      <th>29</th>\n",
              "      <td>551377651</td>\n",
              "      <td>purchase</td>\n",
              "      <td>1002532</td>\n",
              "      <td>2053013555631882655</td>\n",
              "      <td>electronics.smartphone</td>\n",
              "      <td>apple</td>\n",
              "      <td>642.69</td>\n",
              "      <td>2019-10-01 00:04:37 UTC</td>\n",
              "    </tr>\n",
              "    <tr>\n",
              "      <th>54</th>\n",
              "      <td>524601178</td>\n",
              "      <td>purchase</td>\n",
              "      <td>4804055</td>\n",
              "      <td>2053013554658804075</td>\n",
              "      <td>electronics.audio.headphone</td>\n",
              "      <td>apple</td>\n",
              "      <td>189.91</td>\n",
              "      <td>2019-10-01 00:09:26 UTC</td>\n",
              "    </tr>\n",
              "    <tr>\n",
              "      <th>57</th>\n",
              "      <td>551377651</td>\n",
              "      <td>purchase</td>\n",
              "      <td>4804056</td>\n",
              "      <td>2053013554658804075</td>\n",
              "      <td>electronics.audio.headphone</td>\n",
              "      <td>apple</td>\n",
              "      <td>161.98</td>\n",
              "      <td>2019-10-01 00:09:54 UTC</td>\n",
              "    </tr>\n",
              "    <tr>\n",
              "      <th>59</th>\n",
              "      <td>524325294</td>\n",
              "      <td>purchase</td>\n",
              "      <td>1002524</td>\n",
              "      <td>2053013555631882655</td>\n",
              "      <td>electronics.smartphone</td>\n",
              "      <td>apple</td>\n",
              "      <td>515.67</td>\n",
              "      <td>2019-10-01 00:10:08 UTC</td>\n",
              "    </tr>\n",
              "    <tr>\n",
              "      <th>69</th>\n",
              "      <td>533624186</td>\n",
              "      <td>purchase</td>\n",
              "      <td>4802036</td>\n",
              "      <td>2053013554658804075</td>\n",
              "      <td>electronics.audio.headphone</td>\n",
              "      <td>apple</td>\n",
              "      <td>171.56</td>\n",
              "      <td>2019-10-01 00:12:14 UTC</td>\n",
              "    </tr>\n",
              "    <tr>\n",
              "      <th>...</th>\n",
              "      <td>...</td>\n",
              "      <td>...</td>\n",
              "      <td>...</td>\n",
              "      <td>...</td>\n",
              "      <td>...</td>\n",
              "      <td>...</td>\n",
              "      <td>...</td>\n",
              "      <td>...</td>\n",
              "    </tr>\n",
              "    <tr>\n",
              "      <th>4092533</th>\n",
              "      <td>544501248</td>\n",
              "      <td>purchase</td>\n",
              "      <td>1003316</td>\n",
              "      <td>2053013555631882655</td>\n",
              "      <td>electronics.smartphone</td>\n",
              "      <td>apple</td>\n",
              "      <td>928.38</td>\n",
              "      <td>2019-10-31 23:49:30 UTC</td>\n",
              "    </tr>\n",
              "    <tr>\n",
              "      <th>4092535</th>\n",
              "      <td>516662286</td>\n",
              "      <td>purchase</td>\n",
              "      <td>1002524</td>\n",
              "      <td>2053013555631882655</td>\n",
              "      <td>electronics.smartphone</td>\n",
              "      <td>apple</td>\n",
              "      <td>531.26</td>\n",
              "      <td>2019-10-31 23:49:32 UTC</td>\n",
              "    </tr>\n",
              "    <tr>\n",
              "      <th>4092615</th>\n",
              "      <td>512717356</td>\n",
              "      <td>purchase</td>\n",
              "      <td>1003306</td>\n",
              "      <td>2053013555631882655</td>\n",
              "      <td>electronics.smartphone</td>\n",
              "      <td>apple</td>\n",
              "      <td>577.89</td>\n",
              "      <td>2019-10-31 23:56:03 UTC</td>\n",
              "    </tr>\n",
              "    <tr>\n",
              "      <th>4092625</th>\n",
              "      <td>533892594</td>\n",
              "      <td>purchase</td>\n",
              "      <td>1004240</td>\n",
              "      <td>2053013555631882655</td>\n",
              "      <td>electronics.smartphone</td>\n",
              "      <td>apple</td>\n",
              "      <td>1054.60</td>\n",
              "      <td>2019-10-31 23:56:53 UTC</td>\n",
              "    </tr>\n",
              "    <tr>\n",
              "      <th>4092645</th>\n",
              "      <td>544501248</td>\n",
              "      <td>purchase</td>\n",
              "      <td>4804056</td>\n",
              "      <td>2053013554658804075</td>\n",
              "      <td>electronics.audio.headphone</td>\n",
              "      <td>apple</td>\n",
              "      <td>160.57</td>\n",
              "      <td>2019-10-31 23:59:16 UTC</td>\n",
              "    </tr>\n",
              "  </tbody>\n",
              "</table>\n",
              "<p>142577 rows × 8 columns</p>\n",
              "</div>"
            ],
            "text/plain": [
              "           user_id event_type  ...    price               order_date\n",
              "29       551377651   purchase  ...   642.69  2019-10-01 00:04:37 UTC\n",
              "54       524601178   purchase  ...   189.91  2019-10-01 00:09:26 UTC\n",
              "57       551377651   purchase  ...   161.98  2019-10-01 00:09:54 UTC\n",
              "59       524325294   purchase  ...   515.67  2019-10-01 00:10:08 UTC\n",
              "69       533624186   purchase  ...   171.56  2019-10-01 00:12:14 UTC\n",
              "...            ...        ...  ...      ...                      ...\n",
              "4092533  544501248   purchase  ...   928.38  2019-10-31 23:49:30 UTC\n",
              "4092535  516662286   purchase  ...   531.26  2019-10-31 23:49:32 UTC\n",
              "4092615  512717356   purchase  ...   577.89  2019-10-31 23:56:03 UTC\n",
              "4092625  533892594   purchase  ...  1054.60  2019-10-31 23:56:53 UTC\n",
              "4092645  544501248   purchase  ...   160.57  2019-10-31 23:59:16 UTC\n",
              "\n",
              "[142577 rows x 8 columns]"
            ]
          },
          "metadata": {
            "tags": []
          },
          "execution_count": 67
        }
      ]
    },
    {
      "cell_type": "code",
      "metadata": {
        "colab": {
          "base_uri": "https://localhost:8080/",
          "height": 419
        },
        "id": "nxGvDxVOlBd4",
        "outputId": "4463cc57-38d4-4ab7-f122-a8cd99c6c3c7"
      },
      "source": [
        "df[\"values\"]=1 #新增values欄位,讓他們的購買量都為1\r\n",
        "df"
      ],
      "execution_count": null,
      "outputs": [
        {
          "output_type": "execute_result",
          "data": {
            "text/html": [
              "<div>\n",
              "<style scoped>\n",
              "    .dataframe tbody tr th:only-of-type {\n",
              "        vertical-align: middle;\n",
              "    }\n",
              "\n",
              "    .dataframe tbody tr th {\n",
              "        vertical-align: top;\n",
              "    }\n",
              "\n",
              "    .dataframe thead th {\n",
              "        text-align: right;\n",
              "    }\n",
              "</style>\n",
              "<table border=\"1\" class=\"dataframe\">\n",
              "  <thead>\n",
              "    <tr style=\"text-align: right;\">\n",
              "      <th></th>\n",
              "      <th>user_id</th>\n",
              "      <th>event_type</th>\n",
              "      <th>product_id</th>\n",
              "      <th>category_id</th>\n",
              "      <th>category_code</th>\n",
              "      <th>brand</th>\n",
              "      <th>price</th>\n",
              "      <th>order_date</th>\n",
              "      <th>values</th>\n",
              "    </tr>\n",
              "  </thead>\n",
              "  <tbody>\n",
              "    <tr>\n",
              "      <th>29</th>\n",
              "      <td>551377651</td>\n",
              "      <td>purchase</td>\n",
              "      <td>1002532</td>\n",
              "      <td>2053013555631882655</td>\n",
              "      <td>electronics.smartphone</td>\n",
              "      <td>apple</td>\n",
              "      <td>642.69</td>\n",
              "      <td>2019-10-01 00:04:37 UTC</td>\n",
              "      <td>1</td>\n",
              "    </tr>\n",
              "    <tr>\n",
              "      <th>54</th>\n",
              "      <td>524601178</td>\n",
              "      <td>purchase</td>\n",
              "      <td>4804055</td>\n",
              "      <td>2053013554658804075</td>\n",
              "      <td>electronics.audio.headphone</td>\n",
              "      <td>apple</td>\n",
              "      <td>189.91</td>\n",
              "      <td>2019-10-01 00:09:26 UTC</td>\n",
              "      <td>1</td>\n",
              "    </tr>\n",
              "    <tr>\n",
              "      <th>57</th>\n",
              "      <td>551377651</td>\n",
              "      <td>purchase</td>\n",
              "      <td>4804056</td>\n",
              "      <td>2053013554658804075</td>\n",
              "      <td>electronics.audio.headphone</td>\n",
              "      <td>apple</td>\n",
              "      <td>161.98</td>\n",
              "      <td>2019-10-01 00:09:54 UTC</td>\n",
              "      <td>1</td>\n",
              "    </tr>\n",
              "    <tr>\n",
              "      <th>59</th>\n",
              "      <td>524325294</td>\n",
              "      <td>purchase</td>\n",
              "      <td>1002524</td>\n",
              "      <td>2053013555631882655</td>\n",
              "      <td>electronics.smartphone</td>\n",
              "      <td>apple</td>\n",
              "      <td>515.67</td>\n",
              "      <td>2019-10-01 00:10:08 UTC</td>\n",
              "      <td>1</td>\n",
              "    </tr>\n",
              "    <tr>\n",
              "      <th>69</th>\n",
              "      <td>533624186</td>\n",
              "      <td>purchase</td>\n",
              "      <td>4802036</td>\n",
              "      <td>2053013554658804075</td>\n",
              "      <td>electronics.audio.headphone</td>\n",
              "      <td>apple</td>\n",
              "      <td>171.56</td>\n",
              "      <td>2019-10-01 00:12:14 UTC</td>\n",
              "      <td>1</td>\n",
              "    </tr>\n",
              "    <tr>\n",
              "      <th>...</th>\n",
              "      <td>...</td>\n",
              "      <td>...</td>\n",
              "      <td>...</td>\n",
              "      <td>...</td>\n",
              "      <td>...</td>\n",
              "      <td>...</td>\n",
              "      <td>...</td>\n",
              "      <td>...</td>\n",
              "      <td>...</td>\n",
              "    </tr>\n",
              "    <tr>\n",
              "      <th>4092533</th>\n",
              "      <td>544501248</td>\n",
              "      <td>purchase</td>\n",
              "      <td>1003316</td>\n",
              "      <td>2053013555631882655</td>\n",
              "      <td>electronics.smartphone</td>\n",
              "      <td>apple</td>\n",
              "      <td>928.38</td>\n",
              "      <td>2019-10-31 23:49:30 UTC</td>\n",
              "      <td>1</td>\n",
              "    </tr>\n",
              "    <tr>\n",
              "      <th>4092535</th>\n",
              "      <td>516662286</td>\n",
              "      <td>purchase</td>\n",
              "      <td>1002524</td>\n",
              "      <td>2053013555631882655</td>\n",
              "      <td>electronics.smartphone</td>\n",
              "      <td>apple</td>\n",
              "      <td>531.26</td>\n",
              "      <td>2019-10-31 23:49:32 UTC</td>\n",
              "      <td>1</td>\n",
              "    </tr>\n",
              "    <tr>\n",
              "      <th>4092615</th>\n",
              "      <td>512717356</td>\n",
              "      <td>purchase</td>\n",
              "      <td>1003306</td>\n",
              "      <td>2053013555631882655</td>\n",
              "      <td>electronics.smartphone</td>\n",
              "      <td>apple</td>\n",
              "      <td>577.89</td>\n",
              "      <td>2019-10-31 23:56:03 UTC</td>\n",
              "      <td>1</td>\n",
              "    </tr>\n",
              "    <tr>\n",
              "      <th>4092625</th>\n",
              "      <td>533892594</td>\n",
              "      <td>purchase</td>\n",
              "      <td>1004240</td>\n",
              "      <td>2053013555631882655</td>\n",
              "      <td>electronics.smartphone</td>\n",
              "      <td>apple</td>\n",
              "      <td>1054.60</td>\n",
              "      <td>2019-10-31 23:56:53 UTC</td>\n",
              "      <td>1</td>\n",
              "    </tr>\n",
              "    <tr>\n",
              "      <th>4092645</th>\n",
              "      <td>544501248</td>\n",
              "      <td>purchase</td>\n",
              "      <td>4804056</td>\n",
              "      <td>2053013554658804075</td>\n",
              "      <td>electronics.audio.headphone</td>\n",
              "      <td>apple</td>\n",
              "      <td>160.57</td>\n",
              "      <td>2019-10-31 23:59:16 UTC</td>\n",
              "      <td>1</td>\n",
              "    </tr>\n",
              "  </tbody>\n",
              "</table>\n",
              "<p>142577 rows × 9 columns</p>\n",
              "</div>"
            ],
            "text/plain": [
              "           user_id event_type  ...               order_date  values\n",
              "29       551377651   purchase  ...  2019-10-01 00:04:37 UTC       1\n",
              "54       524601178   purchase  ...  2019-10-01 00:09:26 UTC       1\n",
              "57       551377651   purchase  ...  2019-10-01 00:09:54 UTC       1\n",
              "59       524325294   purchase  ...  2019-10-01 00:10:08 UTC       1\n",
              "69       533624186   purchase  ...  2019-10-01 00:12:14 UTC       1\n",
              "...            ...        ...  ...                      ...     ...\n",
              "4092533  544501248   purchase  ...  2019-10-31 23:49:30 UTC       1\n",
              "4092535  516662286   purchase  ...  2019-10-31 23:49:32 UTC       1\n",
              "4092615  512717356   purchase  ...  2019-10-31 23:56:03 UTC       1\n",
              "4092625  533892594   purchase  ...  2019-10-31 23:56:53 UTC       1\n",
              "4092645  544501248   purchase  ...  2019-10-31 23:59:16 UTC       1\n",
              "\n",
              "[142577 rows x 9 columns]"
            ]
          },
          "metadata": {
            "tags": []
          },
          "execution_count": 68
        }
      ]
    },
    {
      "cell_type": "code",
      "metadata": {
        "id": "ANWujYxSnaDZ"
      },
      "source": [
        "# purchase_list = df.pivot_table(index=['user_id','category_id','order_date','price'], #分類條件(不動欄位)\r\n",
        "#                           columns='category_code', # 目的欄位\r\n",
        "#                           aggfunc=sum, # 計算方式，max, min, mean, sum, len\r\n",
        "#                           values='values' #根據欄位\r\n",
        "#                           ).fillna(0).reset_index()\r\n",
        "purchase_list=df"
      ],
      "execution_count": null,
      "outputs": []
    },
    {
      "cell_type": "code",
      "metadata": {
        "id": "zxl8Olzhj8OF"
      },
      "source": [
        "purchase_list['order_date'] = pd.to_datetime(purchase_list['order_date'])# 將購買清單資料中'orderdate'的欄位，全部轉換成datetime格式\r\n",
        "purchase_list['order_date'].dt.tz_localize(None)  #tz_localize=改變時區,None提供一個簡單版本的timestamp\r\n",
        "purchase_list['order_date']= purchase_list['order_date'].dt.strftime(\"%Y-%m-%d\") #將簡單版本的時間格式化為%Y-%m-%d"
      ],
      "execution_count": null,
      "outputs": []
    },
    {
      "cell_type": "code",
      "metadata": {
        "id": "Ry6ve2jyudG_",
        "colab": {
          "base_uri": "https://localhost:8080/",
          "height": 35
        },
        "outputId": "a9ef973a-7108-4089-abb7-cb5e49cd8831"
      },
      "source": [
        "# 將購買清單資料中'orderdate'的欄位，全部轉換成datetime格式\r\n",
        "#dtype用於獲取陣列中元素的型別\r\n",
        "'''\r\n",
        "purchase_list['order_date'] = pd.to_datetime(purchase_list['order_date'])\r\n",
        "print(purchase_list['order_date'].dtype)\r\n",
        "'''"
      ],
      "execution_count": null,
      "outputs": [
        {
          "output_type": "execute_result",
          "data": {
            "application/vnd.google.colaboratory.intrinsic+json": {
              "type": "string"
            },
            "text/plain": [
              "\"\\npurchase_list['order_date'] = pd.to_datetime(purchase_list['order_date'])\\nprint(purchase_list['order_date'].dtype)\\n\""
            ]
          },
          "metadata": {
            "tags": []
          },
          "execution_count": 74
        }
      ]
    },
    {
      "cell_type": "code",
      "metadata": {
        "id": "YiwBELDfYE0G",
        "colab": {
          "base_uri": "https://localhost:8080/",
          "height": 419
        },
        "outputId": "02be41fa-3eee-4b1a-d4ad-83812c561016"
      },
      "source": [
        "purchase_list"
      ],
      "execution_count": null,
      "outputs": [
        {
          "output_type": "execute_result",
          "data": {
            "text/html": [
              "<div>\n",
              "<style scoped>\n",
              "    .dataframe tbody tr th:only-of-type {\n",
              "        vertical-align: middle;\n",
              "    }\n",
              "\n",
              "    .dataframe tbody tr th {\n",
              "        vertical-align: top;\n",
              "    }\n",
              "\n",
              "    .dataframe thead th {\n",
              "        text-align: right;\n",
              "    }\n",
              "</style>\n",
              "<table border=\"1\" class=\"dataframe\">\n",
              "  <thead>\n",
              "    <tr style=\"text-align: right;\">\n",
              "      <th></th>\n",
              "      <th>user_id</th>\n",
              "      <th>event_type</th>\n",
              "      <th>product_id</th>\n",
              "      <th>category_id</th>\n",
              "      <th>category_code</th>\n",
              "      <th>brand</th>\n",
              "      <th>price</th>\n",
              "      <th>order_date</th>\n",
              "      <th>values</th>\n",
              "    </tr>\n",
              "  </thead>\n",
              "  <tbody>\n",
              "    <tr>\n",
              "      <th>29</th>\n",
              "      <td>551377651</td>\n",
              "      <td>purchase</td>\n",
              "      <td>1002532</td>\n",
              "      <td>2053013555631882655</td>\n",
              "      <td>electronics.smartphone</td>\n",
              "      <td>apple</td>\n",
              "      <td>642.69</td>\n",
              "      <td>2019-10-01</td>\n",
              "      <td>1</td>\n",
              "    </tr>\n",
              "    <tr>\n",
              "      <th>54</th>\n",
              "      <td>524601178</td>\n",
              "      <td>purchase</td>\n",
              "      <td>4804055</td>\n",
              "      <td>2053013554658804075</td>\n",
              "      <td>electronics.audio.headphone</td>\n",
              "      <td>apple</td>\n",
              "      <td>189.91</td>\n",
              "      <td>2019-10-01</td>\n",
              "      <td>1</td>\n",
              "    </tr>\n",
              "    <tr>\n",
              "      <th>57</th>\n",
              "      <td>551377651</td>\n",
              "      <td>purchase</td>\n",
              "      <td>4804056</td>\n",
              "      <td>2053013554658804075</td>\n",
              "      <td>electronics.audio.headphone</td>\n",
              "      <td>apple</td>\n",
              "      <td>161.98</td>\n",
              "      <td>2019-10-01</td>\n",
              "      <td>1</td>\n",
              "    </tr>\n",
              "    <tr>\n",
              "      <th>59</th>\n",
              "      <td>524325294</td>\n",
              "      <td>purchase</td>\n",
              "      <td>1002524</td>\n",
              "      <td>2053013555631882655</td>\n",
              "      <td>electronics.smartphone</td>\n",
              "      <td>apple</td>\n",
              "      <td>515.67</td>\n",
              "      <td>2019-10-01</td>\n",
              "      <td>1</td>\n",
              "    </tr>\n",
              "    <tr>\n",
              "      <th>69</th>\n",
              "      <td>533624186</td>\n",
              "      <td>purchase</td>\n",
              "      <td>4802036</td>\n",
              "      <td>2053013554658804075</td>\n",
              "      <td>electronics.audio.headphone</td>\n",
              "      <td>apple</td>\n",
              "      <td>171.56</td>\n",
              "      <td>2019-10-01</td>\n",
              "      <td>1</td>\n",
              "    </tr>\n",
              "    <tr>\n",
              "      <th>...</th>\n",
              "      <td>...</td>\n",
              "      <td>...</td>\n",
              "      <td>...</td>\n",
              "      <td>...</td>\n",
              "      <td>...</td>\n",
              "      <td>...</td>\n",
              "      <td>...</td>\n",
              "      <td>...</td>\n",
              "      <td>...</td>\n",
              "    </tr>\n",
              "    <tr>\n",
              "      <th>4092533</th>\n",
              "      <td>544501248</td>\n",
              "      <td>purchase</td>\n",
              "      <td>1003316</td>\n",
              "      <td>2053013555631882655</td>\n",
              "      <td>electronics.smartphone</td>\n",
              "      <td>apple</td>\n",
              "      <td>928.38</td>\n",
              "      <td>2019-10-31</td>\n",
              "      <td>1</td>\n",
              "    </tr>\n",
              "    <tr>\n",
              "      <th>4092535</th>\n",
              "      <td>516662286</td>\n",
              "      <td>purchase</td>\n",
              "      <td>1002524</td>\n",
              "      <td>2053013555631882655</td>\n",
              "      <td>electronics.smartphone</td>\n",
              "      <td>apple</td>\n",
              "      <td>531.26</td>\n",
              "      <td>2019-10-31</td>\n",
              "      <td>1</td>\n",
              "    </tr>\n",
              "    <tr>\n",
              "      <th>4092615</th>\n",
              "      <td>512717356</td>\n",
              "      <td>purchase</td>\n",
              "      <td>1003306</td>\n",
              "      <td>2053013555631882655</td>\n",
              "      <td>electronics.smartphone</td>\n",
              "      <td>apple</td>\n",
              "      <td>577.89</td>\n",
              "      <td>2019-10-31</td>\n",
              "      <td>1</td>\n",
              "    </tr>\n",
              "    <tr>\n",
              "      <th>4092625</th>\n",
              "      <td>533892594</td>\n",
              "      <td>purchase</td>\n",
              "      <td>1004240</td>\n",
              "      <td>2053013555631882655</td>\n",
              "      <td>electronics.smartphone</td>\n",
              "      <td>apple</td>\n",
              "      <td>1054.60</td>\n",
              "      <td>2019-10-31</td>\n",
              "      <td>1</td>\n",
              "    </tr>\n",
              "    <tr>\n",
              "      <th>4092645</th>\n",
              "      <td>544501248</td>\n",
              "      <td>purchase</td>\n",
              "      <td>4804056</td>\n",
              "      <td>2053013554658804075</td>\n",
              "      <td>electronics.audio.headphone</td>\n",
              "      <td>apple</td>\n",
              "      <td>160.57</td>\n",
              "      <td>2019-10-31</td>\n",
              "      <td>1</td>\n",
              "    </tr>\n",
              "  </tbody>\n",
              "</table>\n",
              "<p>142577 rows × 9 columns</p>\n",
              "</div>"
            ],
            "text/plain": [
              "           user_id event_type  product_id  ...    price  order_date values\n",
              "29       551377651   purchase     1002532  ...   642.69  2019-10-01      1\n",
              "54       524601178   purchase     4804055  ...   189.91  2019-10-01      1\n",
              "57       551377651   purchase     4804056  ...   161.98  2019-10-01      1\n",
              "59       524325294   purchase     1002524  ...   515.67  2019-10-01      1\n",
              "69       533624186   purchase     4802036  ...   171.56  2019-10-01      1\n",
              "...            ...        ...         ...  ...      ...         ...    ...\n",
              "4092533  544501248   purchase     1003316  ...   928.38  2019-10-31      1\n",
              "4092535  516662286   purchase     1002524  ...   531.26  2019-10-31      1\n",
              "4092615  512717356   purchase     1003306  ...   577.89  2019-10-31      1\n",
              "4092625  533892594   purchase     1004240  ...  1054.60  2019-10-31      1\n",
              "4092645  544501248   purchase     4804056  ...   160.57  2019-10-31      1\n",
              "\n",
              "[142577 rows x 9 columns]"
            ]
          },
          "metadata": {
            "tags": []
          },
          "execution_count": 75
        }
      ]
    },
    {
      "cell_type": "code",
      "metadata": {
        "colab": {
          "base_uri": "https://localhost:8080/"
        },
        "id": "ZiGVcIILWHok",
        "outputId": "3a72daed-4a60-495e-c94d-c5c6944d5c89"
      },
      "source": [
        "def date():\r\n",
        "  global purchase_list\r\n",
        "  st = input(\"請輸入起始日期(如2019-10-01) : \")\r\n",
        "  et = input(\"請輸入終止日期(如2019-10-06): \")\r\n",
        "  try:\r\n",
        "    if st >= purchase_list['order_date'].max() or purchase_list['order_date'].min() >= et:\r\n",
        "      print(\"所輸入時間區間不存在於資料集，或者起始終止次序/格式不對\")\r\n",
        "      date()\r\n",
        "    else:\r\n",
        "      mask = purchase_list['order_date'] >= st\r\n",
        "      purchase_list = purchase_list[mask]\r\n",
        "      mask = purchase_list['order_date'] <= et\r\n",
        "      purchase_list = purchase_list[mask]\r\n",
        "  except TypeError:\r\n",
        "    print(\"所輸入時間格式不對\")\r\n",
        "    date()\r\n",
        "date()\r\n"
      ],
      "execution_count": null,
      "outputs": [
        {
          "output_type": "stream",
          "text": [
            "請輸入起始日期:如2019-10-012019-10-01\n",
            "請輸入終止日期:如2019-10-062019-10-31\n"
          ],
          "name": "stdout"
        }
      ]
    },
    {
      "cell_type": "code",
      "metadata": {
        "id": "eaTwFn8dzasM"
      },
      "source": [
        "#頻率計算\r\n",
        "#frequency=算出每個user的總消費frequency\r\n",
        "purchase_list['frequency'] = 1\r\n",
        "frequency = purchase_list.groupby(\"user_id\", #分類條件\r\n",
        "                  as_index = False \r\n",
        "                  )['frequency'].sum() # 目的欄位 & 計算方式，max, min, mean, sum\r\n"
      ],
      "execution_count": null,
      "outputs": []
    },
    {
      "cell_type": "code",
      "metadata": {
        "colab": {
          "base_uri": "https://localhost:8080/",
          "height": 419
        },
        "id": "To9DZLOr7aqp",
        "outputId": "47c098d1-52f3-4677-9699-33e2ff6cd3fd"
      },
      "source": [
        "frequency #檢查frquency"
      ],
      "execution_count": null,
      "outputs": [
        {
          "output_type": "execute_result",
          "data": {
            "text/html": [
              "<div>\n",
              "<style scoped>\n",
              "    .dataframe tbody tr th:only-of-type {\n",
              "        vertical-align: middle;\n",
              "    }\n",
              "\n",
              "    .dataframe tbody tr th {\n",
              "        vertical-align: top;\n",
              "    }\n",
              "\n",
              "    .dataframe thead th {\n",
              "        text-align: right;\n",
              "    }\n",
              "</style>\n",
              "<table border=\"1\" class=\"dataframe\">\n",
              "  <thead>\n",
              "    <tr style=\"text-align: right;\">\n",
              "      <th></th>\n",
              "      <th>user_id</th>\n",
              "      <th>frequency</th>\n",
              "    </tr>\n",
              "  </thead>\n",
              "  <tbody>\n",
              "    <tr>\n",
              "      <th>0</th>\n",
              "      <td>403013066</td>\n",
              "      <td>1</td>\n",
              "    </tr>\n",
              "    <tr>\n",
              "      <th>1</th>\n",
              "      <td>410333972</td>\n",
              "      <td>1</td>\n",
              "    </tr>\n",
              "    <tr>\n",
              "      <th>2</th>\n",
              "      <td>418115333</td>\n",
              "      <td>1</td>\n",
              "    </tr>\n",
              "    <tr>\n",
              "      <th>3</th>\n",
              "      <td>435786120</td>\n",
              "      <td>1</td>\n",
              "    </tr>\n",
              "    <tr>\n",
              "      <th>4</th>\n",
              "      <td>444316141</td>\n",
              "      <td>1</td>\n",
              "    </tr>\n",
              "    <tr>\n",
              "      <th>...</th>\n",
              "      <td>...</td>\n",
              "      <td>...</td>\n",
              "    </tr>\n",
              "    <tr>\n",
              "      <th>65466</th>\n",
              "      <td>566256174</td>\n",
              "      <td>2</td>\n",
              "    </tr>\n",
              "    <tr>\n",
              "      <th>65467</th>\n",
              "      <td>566256723</td>\n",
              "      <td>1</td>\n",
              "    </tr>\n",
              "    <tr>\n",
              "      <th>65468</th>\n",
              "      <td>566265448</td>\n",
              "      <td>1</td>\n",
              "    </tr>\n",
              "    <tr>\n",
              "      <th>65469</th>\n",
              "      <td>566274637</td>\n",
              "      <td>1</td>\n",
              "    </tr>\n",
              "    <tr>\n",
              "      <th>65470</th>\n",
              "      <td>566278294</td>\n",
              "      <td>1</td>\n",
              "    </tr>\n",
              "  </tbody>\n",
              "</table>\n",
              "<p>65471 rows × 2 columns</p>\n",
              "</div>"
            ],
            "text/plain": [
              "         user_id  frequency\n",
              "0      403013066          1\n",
              "1      410333972          1\n",
              "2      418115333          1\n",
              "3      435786120          1\n",
              "4      444316141          1\n",
              "...          ...        ...\n",
              "65466  566256174          2\n",
              "65467  566256723          1\n",
              "65468  566265448          1\n",
              "65469  566274637          1\n",
              "65470  566278294          1\n",
              "\n",
              "[65471 rows x 2 columns]"
            ]
          },
          "metadata": {
            "tags": []
          },
          "execution_count": 71
        }
      ]
    },
    {
      "cell_type": "code",
      "metadata": {
        "id": "BBDvuMYxj1Rh"
      },
      "source": [
        "# 刪除purchase_list的frequency欄位\r\n",
        "del purchase_list['frequency']"
      ],
      "execution_count": null,
      "outputs": []
    },
    {
      "cell_type": "code",
      "metadata": {
        "id": "Hcy6QB23J7Wn"
      },
      "source": [
        "moneytary = purchase_list.groupby(\"user_id\", #分類條件\r\n",
        "                  as_index = False # 分類條件是否要取代Index\r\n",
        "                  )['price'].sum() # 目的欄位 & 計算方式，max, min, mean, sum"
      ],
      "execution_count": null,
      "outputs": []
    },
    {
      "cell_type": "code",
      "metadata": {
        "colab": {
          "base_uri": "https://localhost:8080/",
          "height": 419
        },
        "id": "jgGDJKJ--I_R",
        "outputId": "8f90e081-03c0-49e5-c810-fbd4bbfc3078"
      },
      "source": [
        "moneytary"
      ],
      "execution_count": null,
      "outputs": [
        {
          "output_type": "execute_result",
          "data": {
            "text/html": [
              "<div>\n",
              "<style scoped>\n",
              "    .dataframe tbody tr th:only-of-type {\n",
              "        vertical-align: middle;\n",
              "    }\n",
              "\n",
              "    .dataframe tbody tr th {\n",
              "        vertical-align: top;\n",
              "    }\n",
              "\n",
              "    .dataframe thead th {\n",
              "        text-align: right;\n",
              "    }\n",
              "</style>\n",
              "<table border=\"1\" class=\"dataframe\">\n",
              "  <thead>\n",
              "    <tr style=\"text-align: right;\">\n",
              "      <th></th>\n",
              "      <th>user_id</th>\n",
              "      <th>price</th>\n",
              "    </tr>\n",
              "  </thead>\n",
              "  <tbody>\n",
              "    <tr>\n",
              "      <th>0</th>\n",
              "      <td>403013066</td>\n",
              "      <td>577.94</td>\n",
              "    </tr>\n",
              "    <tr>\n",
              "      <th>1</th>\n",
              "      <td>410333972</td>\n",
              "      <td>591.25</td>\n",
              "    </tr>\n",
              "    <tr>\n",
              "      <th>2</th>\n",
              "      <td>418115333</td>\n",
              "      <td>127.42</td>\n",
              "    </tr>\n",
              "    <tr>\n",
              "      <th>3</th>\n",
              "      <td>435786120</td>\n",
              "      <td>437.85</td>\n",
              "    </tr>\n",
              "    <tr>\n",
              "      <th>4</th>\n",
              "      <td>444316141</td>\n",
              "      <td>459.64</td>\n",
              "    </tr>\n",
              "    <tr>\n",
              "      <th>...</th>\n",
              "      <td>...</td>\n",
              "      <td>...</td>\n",
              "    </tr>\n",
              "    <tr>\n",
              "      <th>65466</th>\n",
              "      <td>566256174</td>\n",
              "      <td>2700.54</td>\n",
              "    </tr>\n",
              "    <tr>\n",
              "      <th>65467</th>\n",
              "      <td>566256723</td>\n",
              "      <td>1348.61</td>\n",
              "    </tr>\n",
              "    <tr>\n",
              "      <th>65468</th>\n",
              "      <td>566265448</td>\n",
              "      <td>592.01</td>\n",
              "    </tr>\n",
              "    <tr>\n",
              "      <th>65469</th>\n",
              "      <td>566274637</td>\n",
              "      <td>2011.63</td>\n",
              "    </tr>\n",
              "    <tr>\n",
              "      <th>65470</th>\n",
              "      <td>566278294</td>\n",
              "      <td>1661.09</td>\n",
              "    </tr>\n",
              "  </tbody>\n",
              "</table>\n",
              "<p>65471 rows × 2 columns</p>\n",
              "</div>"
            ],
            "text/plain": [
              "         user_id    price\n",
              "0      403013066   577.94\n",
              "1      410333972   591.25\n",
              "2      418115333   127.42\n",
              "3      435786120   437.85\n",
              "4      444316141   459.64\n",
              "...          ...      ...\n",
              "65466  566256174  2700.54\n",
              "65467  566256723  1348.61\n",
              "65468  566265448   592.01\n",
              "65469  566274637  2011.63\n",
              "65470  566278294  1661.09\n",
              "\n",
              "[65471 rows x 2 columns]"
            ]
          },
          "metadata": {
            "tags": []
          },
          "execution_count": 78
        }
      ]
    },
    {
      "cell_type": "code",
      "metadata": {
        "colab": {
          "base_uri": "https://localhost:8080/"
        },
        "id": "c8zs0yqh7CvE",
        "outputId": "5517b775-8b5f-4305-90ab-07bc471179c0"
      },
      "source": [
        "MaxPrice=moneytary['price'].max() \r\n",
        "MaxPrice"
      ],
      "execution_count": null,
      "outputs": [
        {
          "output_type": "execute_result",
          "data": {
            "text/plain": [
              "265569.51999999967"
            ]
          },
          "metadata": {
            "tags": []
          },
          "execution_count": 79
        }
      ]
    },
    {
      "cell_type": "code",
      "metadata": {
        "colab": {
          "base_uri": "https://localhost:8080/"
        },
        "id": "__apBT2rmguC",
        "outputId": "423332e3-1f19-49f6-9f9c-a7eba37ed843"
      },
      "source": [
        "moneytary['price'].median()"
      ],
      "execution_count": null,
      "outputs": [
        {
          "output_type": "execute_result",
          "data": {
            "text/plain": [
              "975.57"
            ]
          },
          "metadata": {
            "tags": []
          },
          "execution_count": 80
        }
      ]
    },
    {
      "cell_type": "code",
      "metadata": {
        "colab": {
          "base_uri": "https://localhost:8080/"
        },
        "id": "5qP8raud9LJp",
        "outputId": "ad17052f-99dd-477c-eb1b-5605ef2b4b29"
      },
      "source": [
        "moneytary[\"price\"]=(moneytary[\"price\"]/MaxPrice)\r\n",
        "moneytary[\"price\"]"
      ],
      "execution_count": null,
      "outputs": [
        {
          "output_type": "execute_result",
          "data": {
            "text/plain": [
              "0        0.002176\n",
              "1        0.002226\n",
              "2        0.000480\n",
              "3        0.001649\n",
              "4        0.001731\n",
              "           ...   \n",
              "65466    0.010169\n",
              "65467    0.005078\n",
              "65468    0.002229\n",
              "65469    0.007575\n",
              "65470    0.006255\n",
              "Name: price, Length: 65471, dtype: float64"
            ]
          },
          "metadata": {
            "tags": []
          },
          "execution_count": 81
        }
      ]
    },
    {
      "cell_type": "code",
      "metadata": {
        "id": "TnkY5N6m973z"
      },
      "source": [
        "moneytary.rename(columns={\"price\":\"price_percentage\"},inplace=True)"
      ],
      "execution_count": null,
      "outputs": []
    },
    {
      "cell_type": "code",
      "metadata": {
        "id": "CipG7phcJLDA"
      },
      "source": [
        "fm_list=moneytary.merge(frequency, # 即將合併上去的資料表\r\n",
        "          on = ['user_id'], # 兩表間連接的key\r\n",
        "          how='inner') # 合併的方式"
      ],
      "execution_count": null,
      "outputs": []
    },
    {
      "cell_type": "code",
      "metadata": {
        "colab": {
          "base_uri": "https://localhost:8080/"
        },
        "id": "LhTAcPrdMSM9",
        "outputId": "5ec34bb5-d225-4280-c0e5-dfde92166d97"
      },
      "source": [
        "m=fm_list['frequency'].median()\r\n",
        "m"
      ],
      "execution_count": null,
      "outputs": [
        {
          "output_type": "execute_result",
          "data": {
            "text/plain": [
              "1.0"
            ]
          },
          "metadata": {
            "tags": []
          },
          "execution_count": 84
        }
      ]
    },
    {
      "cell_type": "code",
      "metadata": {
        "colab": {
          "base_uri": "https://localhost:8080/"
        },
        "id": "Wiy5XlxORtGJ",
        "outputId": "1fa756f3-eb3d-4dd9-93ca-d39ae10cbe7e"
      },
      "source": [
        "# a=fm_list.query('frequency == \"2\"').count() #11651\r\n",
        "# b=fm_list.query('frequency == \"1\"').count() #41119\r\n",
        "# c=fm_list.query('frequency == \"3\"').count() #4767\r\n",
        "# d=fm_list.query('frequency == \"4\"').count() #2525\r\n",
        "# e=fm_list.query('frequency == \"5\"').count() #1428\r\n",
        "# f=fm_list.query('frequency == \"6\"').count() #940\r\n",
        "# g=fm_list.query('frequency == \"7\"').count() #668\r\n",
        "# h=fm_list.query('frequency == \"8\"').count() #453\r\n",
        "# i=fm_list.query('frequency == \"9\"').count() #358\r\n",
        "# j=fm_list.query('frequency == \"10\"').count() #264\r\n",
        "11651+41119+4767+2525+1428+940+668+453+358+264\r\n",
        "fm_list['frequency'].value_counts().head(10) #算前幾個10"
      ],
      "execution_count": null,
      "outputs": [
        {
          "output_type": "execute_result",
          "data": {
            "text/plain": [
              "1     41111\n",
              "2     11659\n",
              "3      4766\n",
              "4      2526\n",
              "5      1426\n",
              "6       942\n",
              "7       668\n",
              "8       451\n",
              "9       360\n",
              "10      264\n",
              "Name: frequency, dtype: int64"
            ]
          },
          "metadata": {
            "tags": []
          },
          "execution_count": 85
        }
      ]
    },
    {
      "cell_type": "code",
      "metadata": {
        "id": "9btD6AGaMgDx",
        "colab": {
          "base_uri": "https://localhost:8080/",
          "height": 52
        },
        "outputId": "07a96e19-06db-4481-868d-9bdb2fd72cde"
      },
      "source": [
        "'''\r\n",
        "##### 切割 frequency #####\r\n",
        "frequency_label =  ['freq<='+str(x), 'freq>'+str(x)]\r\n",
        "frequency_cut  = [ 0,1,fm_list['frequency'].max()] #bin\r\n",
        "fm_list['frequency_cate'] = pd.cut( \r\n",
        "        fm_list['frequency'] , #目標欄位\r\n",
        "        frequency_cut,  #切割條件\r\n",
        "        labels =frequency_label) #切割後的分類內容\r\n",
        "'''"
      ],
      "execution_count": null,
      "outputs": [
        {
          "output_type": "execute_result",
          "data": {
            "application/vnd.google.colaboratory.intrinsic+json": {
              "type": "string"
            },
            "text/plain": [
              "\"\\n##### 切割 frequency #####\\nfrequency_label =  ['freq<='+str(x), 'freq>'+str(x)]\\nfrequency_cut  = [ 0,1,fm_list['frequency'].max()] #bin\\nfm_list['frequency_cate'] = pd.cut( \\n        fm_list['frequency'] , #目標欄位\\n        frequency_cut,  #切割條件\\n        labels =frequency_label) #切割後的分類內容\\n\""
            ]
          },
          "metadata": {
            "tags": []
          },
          "execution_count": 86
        }
      ]
    },
    {
      "cell_type": "code",
      "metadata": {
        "colab": {
          "base_uri": "https://localhost:8080/",
          "height": 419
        },
        "id": "PGfqurwYdH-D",
        "outputId": "7a665580-3a5f-4384-e2db-0445f3c0ac9c"
      },
      "source": [
        "#crosstab 第一个参数是列，第二个参数是行\r\n",
        "#margins = True ==>用來確認是否顯示該欄位的加總\r\n",
        "fm_list"
      ],
      "execution_count": null,
      "outputs": [
        {
          "output_type": "execute_result",
          "data": {
            "text/html": [
              "<div>\n",
              "<style scoped>\n",
              "    .dataframe tbody tr th:only-of-type {\n",
              "        vertical-align: middle;\n",
              "    }\n",
              "\n",
              "    .dataframe tbody tr th {\n",
              "        vertical-align: top;\n",
              "    }\n",
              "\n",
              "    .dataframe thead th {\n",
              "        text-align: right;\n",
              "    }\n",
              "</style>\n",
              "<table border=\"1\" class=\"dataframe\">\n",
              "  <thead>\n",
              "    <tr style=\"text-align: right;\">\n",
              "      <th></th>\n",
              "      <th>user_id</th>\n",
              "      <th>price_percentage</th>\n",
              "      <th>frequency</th>\n",
              "    </tr>\n",
              "  </thead>\n",
              "  <tbody>\n",
              "    <tr>\n",
              "      <th>0</th>\n",
              "      <td>403013066</td>\n",
              "      <td>0.002176</td>\n",
              "      <td>1</td>\n",
              "    </tr>\n",
              "    <tr>\n",
              "      <th>1</th>\n",
              "      <td>410333972</td>\n",
              "      <td>0.002226</td>\n",
              "      <td>1</td>\n",
              "    </tr>\n",
              "    <tr>\n",
              "      <th>2</th>\n",
              "      <td>418115333</td>\n",
              "      <td>0.000480</td>\n",
              "      <td>1</td>\n",
              "    </tr>\n",
              "    <tr>\n",
              "      <th>3</th>\n",
              "      <td>435786120</td>\n",
              "      <td>0.001649</td>\n",
              "      <td>1</td>\n",
              "    </tr>\n",
              "    <tr>\n",
              "      <th>4</th>\n",
              "      <td>444316141</td>\n",
              "      <td>0.001731</td>\n",
              "      <td>1</td>\n",
              "    </tr>\n",
              "    <tr>\n",
              "      <th>...</th>\n",
              "      <td>...</td>\n",
              "      <td>...</td>\n",
              "      <td>...</td>\n",
              "    </tr>\n",
              "    <tr>\n",
              "      <th>65466</th>\n",
              "      <td>566256174</td>\n",
              "      <td>0.010169</td>\n",
              "      <td>2</td>\n",
              "    </tr>\n",
              "    <tr>\n",
              "      <th>65467</th>\n",
              "      <td>566256723</td>\n",
              "      <td>0.005078</td>\n",
              "      <td>1</td>\n",
              "    </tr>\n",
              "    <tr>\n",
              "      <th>65468</th>\n",
              "      <td>566265448</td>\n",
              "      <td>0.002229</td>\n",
              "      <td>1</td>\n",
              "    </tr>\n",
              "    <tr>\n",
              "      <th>65469</th>\n",
              "      <td>566274637</td>\n",
              "      <td>0.007575</td>\n",
              "      <td>1</td>\n",
              "    </tr>\n",
              "    <tr>\n",
              "      <th>65470</th>\n",
              "      <td>566278294</td>\n",
              "      <td>0.006255</td>\n",
              "      <td>1</td>\n",
              "    </tr>\n",
              "  </tbody>\n",
              "</table>\n",
              "<p>65471 rows × 3 columns</p>\n",
              "</div>"
            ],
            "text/plain": [
              "         user_id  price_percentage  frequency\n",
              "0      403013066          0.002176          1\n",
              "1      410333972          0.002226          1\n",
              "2      418115333          0.000480          1\n",
              "3      435786120          0.001649          1\n",
              "4      444316141          0.001731          1\n",
              "...          ...               ...        ...\n",
              "65466  566256174          0.010169          2\n",
              "65467  566256723          0.005078          1\n",
              "65468  566265448          0.002229          1\n",
              "65469  566274637          0.007575          1\n",
              "65470  566278294          0.006255          1\n",
              "\n",
              "[65471 rows x 3 columns]"
            ]
          },
          "metadata": {
            "tags": []
          },
          "execution_count": 87
        }
      ]
    },
    {
      "cell_type": "code",
      "metadata": {
        "colab": {
          "base_uri": "https://localhost:8080/"
        },
        "id": "rXlpb52NjH8B",
        "outputId": "699ff5f8-8b60-4d03-deb9-9193bc5013b7"
      },
      "source": [
        "x2=fm_list[\"price_percentage\"].median()\r\n",
        "x2"
      ],
      "execution_count": null,
      "outputs": [
        {
          "output_type": "execute_result",
          "data": {
            "text/plain": [
              "0.003673501386755533"
            ]
          },
          "metadata": {
            "tags": []
          },
          "execution_count": 88
        }
      ]
    },
    {
      "cell_type": "code",
      "metadata": {
        "id": "Ec6w-WKCD-z9"
      },
      "source": [
        "fm_list[\"price_percentage\"]=fm_list[\"price_percentage\"].apply(lambda x: x*100) #%"
      ],
      "execution_count": null,
      "outputs": []
    },
    {
      "cell_type": "code",
      "metadata": {
        "colab": {
          "base_uri": "https://localhost:8080/"
        },
        "id": "8iNN4JHFEST0",
        "outputId": "876c7948-9cae-4701-8b1e-66d10b14397c"
      },
      "source": [
        "x=fm_list[\"price_percentage\"].median()\r\n",
        "x"
      ],
      "execution_count": null,
      "outputs": [
        {
          "output_type": "execute_result",
          "data": {
            "text/plain": [
              "0.36735013867555333"
            ]
          },
          "metadata": {
            "tags": []
          },
          "execution_count": 90
        }
      ]
    },
    {
      "cell_type": "code",
      "metadata": {
        "colab": {
          "base_uri": "https://localhost:8080/"
        },
        "id": "XO1onYzIdTra",
        "outputId": "beb92731-f798-446f-9b28-c697f96e144f"
      },
      "source": [
        "x2=fm_list[\"frequency\"].median()\r\n",
        "x2"
      ],
      "execution_count": null,
      "outputs": [
        {
          "output_type": "execute_result",
          "data": {
            "text/plain": [
              "1.0"
            ]
          },
          "metadata": {
            "tags": []
          },
          "execution_count": 91
        }
      ]
    },
    {
      "cell_type": "code",
      "metadata": {
        "id": "Pim4necJgKHg"
      },
      "source": [
        "# 分類並標示出常貴客、常客,新客,一次客\r\n",
        "fm_list['customer'] = np.where( (fm_list['frequency'] >x2) & (fm_list['price_percentage']>x), '常貴客',\r\n",
        "   \r\n",
        "                     np.where( (fm_list['frequency'] >x2) & ( fm_list['price_percentage']<=x), '常客',\r\n",
        "                              \r\n",
        "                              np.where( (fm_list['frequency'] <= x2) & ( fm_list['price_percentage']>x), '量販客',\r\n",
        "                                       \r\n",
        "                                       '新客'  )))"
      ],
      "execution_count": null,
      "outputs": []
    },
    {
      "cell_type": "code",
      "metadata": {
        "colab": {
          "base_uri": "https://localhost:8080/",
          "height": 419
        },
        "id": "4ZXAXR7rDXBx",
        "outputId": "bf59cee2-53af-40d8-be10-1510235a8859"
      },
      "source": [
        "fm_list"
      ],
      "execution_count": null,
      "outputs": [
        {
          "output_type": "execute_result",
          "data": {
            "text/html": [
              "<div>\n",
              "<style scoped>\n",
              "    .dataframe tbody tr th:only-of-type {\n",
              "        vertical-align: middle;\n",
              "    }\n",
              "\n",
              "    .dataframe tbody tr th {\n",
              "        vertical-align: top;\n",
              "    }\n",
              "\n",
              "    .dataframe thead th {\n",
              "        text-align: right;\n",
              "    }\n",
              "</style>\n",
              "<table border=\"1\" class=\"dataframe\">\n",
              "  <thead>\n",
              "    <tr style=\"text-align: right;\">\n",
              "      <th></th>\n",
              "      <th>user_id</th>\n",
              "      <th>price_percentage</th>\n",
              "      <th>frequency</th>\n",
              "      <th>customer</th>\n",
              "    </tr>\n",
              "  </thead>\n",
              "  <tbody>\n",
              "    <tr>\n",
              "      <th>0</th>\n",
              "      <td>403013066</td>\n",
              "      <td>0.217623</td>\n",
              "      <td>1</td>\n",
              "      <td>新客</td>\n",
              "    </tr>\n",
              "    <tr>\n",
              "      <th>1</th>\n",
              "      <td>410333972</td>\n",
              "      <td>0.222635</td>\n",
              "      <td>1</td>\n",
              "      <td>新客</td>\n",
              "    </tr>\n",
              "    <tr>\n",
              "      <th>2</th>\n",
              "      <td>418115333</td>\n",
              "      <td>0.047980</td>\n",
              "      <td>1</td>\n",
              "      <td>新客</td>\n",
              "    </tr>\n",
              "    <tr>\n",
              "      <th>3</th>\n",
              "      <td>435786120</td>\n",
              "      <td>0.164872</td>\n",
              "      <td>1</td>\n",
              "      <td>新客</td>\n",
              "    </tr>\n",
              "    <tr>\n",
              "      <th>4</th>\n",
              "      <td>444316141</td>\n",
              "      <td>0.173077</td>\n",
              "      <td>1</td>\n",
              "      <td>新客</td>\n",
              "    </tr>\n",
              "    <tr>\n",
              "      <th>...</th>\n",
              "      <td>...</td>\n",
              "      <td>...</td>\n",
              "      <td>...</td>\n",
              "      <td>...</td>\n",
              "    </tr>\n",
              "    <tr>\n",
              "      <th>65466</th>\n",
              "      <td>566256174</td>\n",
              "      <td>1.016886</td>\n",
              "      <td>2</td>\n",
              "      <td>常貴客</td>\n",
              "    </tr>\n",
              "    <tr>\n",
              "      <th>65467</th>\n",
              "      <td>566256723</td>\n",
              "      <td>0.507818</td>\n",
              "      <td>1</td>\n",
              "      <td>量販客</td>\n",
              "    </tr>\n",
              "    <tr>\n",
              "      <th>65468</th>\n",
              "      <td>566265448</td>\n",
              "      <td>0.222921</td>\n",
              "      <td>1</td>\n",
              "      <td>新客</td>\n",
              "    </tr>\n",
              "    <tr>\n",
              "      <th>65469</th>\n",
              "      <td>566274637</td>\n",
              "      <td>0.757478</td>\n",
              "      <td>1</td>\n",
              "      <td>量販客</td>\n",
              "    </tr>\n",
              "    <tr>\n",
              "      <th>65470</th>\n",
              "      <td>566278294</td>\n",
              "      <td>0.625482</td>\n",
              "      <td>1</td>\n",
              "      <td>量販客</td>\n",
              "    </tr>\n",
              "  </tbody>\n",
              "</table>\n",
              "<p>65471 rows × 4 columns</p>\n",
              "</div>"
            ],
            "text/plain": [
              "         user_id  price_percentage  frequency customer\n",
              "0      403013066          0.217623          1       新客\n",
              "1      410333972          0.222635          1       新客\n",
              "2      418115333          0.047980          1       新客\n",
              "3      435786120          0.164872          1       新客\n",
              "4      444316141          0.173077          1       新客\n",
              "...          ...               ...        ...      ...\n",
              "65466  566256174          1.016886          2      常貴客\n",
              "65467  566256723          0.507818          1      量販客\n",
              "65468  566265448          0.222921          1       新客\n",
              "65469  566274637          0.757478          1      量販客\n",
              "65470  566278294          0.625482          1      量販客\n",
              "\n",
              "[65471 rows x 4 columns]"
            ]
          },
          "metadata": {
            "tags": []
          },
          "execution_count": 93
        }
      ]
    },
    {
      "cell_type": "code",
      "metadata": {
        "id": "Mq_kCurvB7mH"
      },
      "source": [
        "#計算每個人的花費是最大值的多少百分比\r\n",
        "#fm_list[\"price_percentage\"]=fm_list[\"price_percentage\"].apply(lambda x: x*100) #%"
      ],
      "execution_count": null,
      "outputs": []
    },
    {
      "cell_type": "code",
      "metadata": {
        "id": "C-QZZO167BP8"
      },
      "source": [
        "fm_list.rename(columns={\"price_percentage\":\"price_percentage(%)\"},inplace=True)"
      ],
      "execution_count": null,
      "outputs": []
    },
    {
      "cell_type": "code",
      "metadata": {
        "colab": {
          "base_uri": "https://localhost:8080/",
          "height": 419
        },
        "id": "zkSOLlk57RgJ",
        "outputId": "1f350992-14d7-4a65-8159-f0b1a80ac53b"
      },
      "source": [
        "fm_list"
      ],
      "execution_count": null,
      "outputs": [
        {
          "output_type": "execute_result",
          "data": {
            "text/html": [
              "<div>\n",
              "<style scoped>\n",
              "    .dataframe tbody tr th:only-of-type {\n",
              "        vertical-align: middle;\n",
              "    }\n",
              "\n",
              "    .dataframe tbody tr th {\n",
              "        vertical-align: top;\n",
              "    }\n",
              "\n",
              "    .dataframe thead th {\n",
              "        text-align: right;\n",
              "    }\n",
              "</style>\n",
              "<table border=\"1\" class=\"dataframe\">\n",
              "  <thead>\n",
              "    <tr style=\"text-align: right;\">\n",
              "      <th></th>\n",
              "      <th>user_id</th>\n",
              "      <th>price_percentage(%)</th>\n",
              "      <th>frequency</th>\n",
              "      <th>customer</th>\n",
              "    </tr>\n",
              "  </thead>\n",
              "  <tbody>\n",
              "    <tr>\n",
              "      <th>0</th>\n",
              "      <td>403013066</td>\n",
              "      <td>0.217623</td>\n",
              "      <td>1</td>\n",
              "      <td>新客</td>\n",
              "    </tr>\n",
              "    <tr>\n",
              "      <th>1</th>\n",
              "      <td>410333972</td>\n",
              "      <td>0.222635</td>\n",
              "      <td>1</td>\n",
              "      <td>新客</td>\n",
              "    </tr>\n",
              "    <tr>\n",
              "      <th>2</th>\n",
              "      <td>418115333</td>\n",
              "      <td>0.047980</td>\n",
              "      <td>1</td>\n",
              "      <td>新客</td>\n",
              "    </tr>\n",
              "    <tr>\n",
              "      <th>3</th>\n",
              "      <td>435786120</td>\n",
              "      <td>0.164872</td>\n",
              "      <td>1</td>\n",
              "      <td>新客</td>\n",
              "    </tr>\n",
              "    <tr>\n",
              "      <th>4</th>\n",
              "      <td>444316141</td>\n",
              "      <td>0.173077</td>\n",
              "      <td>1</td>\n",
              "      <td>新客</td>\n",
              "    </tr>\n",
              "    <tr>\n",
              "      <th>...</th>\n",
              "      <td>...</td>\n",
              "      <td>...</td>\n",
              "      <td>...</td>\n",
              "      <td>...</td>\n",
              "    </tr>\n",
              "    <tr>\n",
              "      <th>65466</th>\n",
              "      <td>566256174</td>\n",
              "      <td>1.016886</td>\n",
              "      <td>2</td>\n",
              "      <td>常貴客</td>\n",
              "    </tr>\n",
              "    <tr>\n",
              "      <th>65467</th>\n",
              "      <td>566256723</td>\n",
              "      <td>0.507818</td>\n",
              "      <td>1</td>\n",
              "      <td>量販客</td>\n",
              "    </tr>\n",
              "    <tr>\n",
              "      <th>65468</th>\n",
              "      <td>566265448</td>\n",
              "      <td>0.222921</td>\n",
              "      <td>1</td>\n",
              "      <td>新客</td>\n",
              "    </tr>\n",
              "    <tr>\n",
              "      <th>65469</th>\n",
              "      <td>566274637</td>\n",
              "      <td>0.757478</td>\n",
              "      <td>1</td>\n",
              "      <td>量販客</td>\n",
              "    </tr>\n",
              "    <tr>\n",
              "      <th>65470</th>\n",
              "      <td>566278294</td>\n",
              "      <td>0.625482</td>\n",
              "      <td>1</td>\n",
              "      <td>量販客</td>\n",
              "    </tr>\n",
              "  </tbody>\n",
              "</table>\n",
              "<p>65471 rows × 4 columns</p>\n",
              "</div>"
            ],
            "text/plain": [
              "         user_id  price_percentage(%)  frequency customer\n",
              "0      403013066             0.217623          1       新客\n",
              "1      410333972             0.222635          1       新客\n",
              "2      418115333             0.047980          1       新客\n",
              "3      435786120             0.164872          1       新客\n",
              "4      444316141             0.173077          1       新客\n",
              "...          ...                  ...        ...      ...\n",
              "65466  566256174             1.016886          2      常貴客\n",
              "65467  566256723             0.507818          1      量販客\n",
              "65468  566265448             0.222921          1       新客\n",
              "65469  566274637             0.757478          1      量販客\n",
              "65470  566278294             0.625482          1      量販客\n",
              "\n",
              "[65471 rows x 4 columns]"
            ]
          },
          "metadata": {
            "tags": []
          },
          "execution_count": 96
        }
      ]
    },
    {
      "cell_type": "code",
      "metadata": {
        "id": "SP94Qkp8HNWv"
      },
      "source": [
        "fm_list[\"price_percentage(%)\"]=fm_list[\"price_percentage(%)\"].apply(lambda x: format(x, '.2f'))"
      ],
      "execution_count": null,
      "outputs": []
    },
    {
      "cell_type": "code",
      "metadata": {
        "colab": {
          "base_uri": "https://localhost:8080/",
          "height": 419
        },
        "id": "9ZHL9xmbdlvl",
        "outputId": "6bc68863-8b25-4b05-e76a-545213d2293d"
      },
      "source": [
        "fm_list"
      ],
      "execution_count": null,
      "outputs": [
        {
          "output_type": "execute_result",
          "data": {
            "text/html": [
              "<div>\n",
              "<style scoped>\n",
              "    .dataframe tbody tr th:only-of-type {\n",
              "        vertical-align: middle;\n",
              "    }\n",
              "\n",
              "    .dataframe tbody tr th {\n",
              "        vertical-align: top;\n",
              "    }\n",
              "\n",
              "    .dataframe thead th {\n",
              "        text-align: right;\n",
              "    }\n",
              "</style>\n",
              "<table border=\"1\" class=\"dataframe\">\n",
              "  <thead>\n",
              "    <tr style=\"text-align: right;\">\n",
              "      <th></th>\n",
              "      <th>user_id</th>\n",
              "      <th>price_percentage(%)</th>\n",
              "      <th>frequency</th>\n",
              "      <th>customer</th>\n",
              "    </tr>\n",
              "  </thead>\n",
              "  <tbody>\n",
              "    <tr>\n",
              "      <th>0</th>\n",
              "      <td>403013066</td>\n",
              "      <td>0.22</td>\n",
              "      <td>1</td>\n",
              "      <td>新客</td>\n",
              "    </tr>\n",
              "    <tr>\n",
              "      <th>1</th>\n",
              "      <td>410333972</td>\n",
              "      <td>0.22</td>\n",
              "      <td>1</td>\n",
              "      <td>新客</td>\n",
              "    </tr>\n",
              "    <tr>\n",
              "      <th>2</th>\n",
              "      <td>418115333</td>\n",
              "      <td>0.05</td>\n",
              "      <td>1</td>\n",
              "      <td>新客</td>\n",
              "    </tr>\n",
              "    <tr>\n",
              "      <th>3</th>\n",
              "      <td>435786120</td>\n",
              "      <td>0.16</td>\n",
              "      <td>1</td>\n",
              "      <td>新客</td>\n",
              "    </tr>\n",
              "    <tr>\n",
              "      <th>4</th>\n",
              "      <td>444316141</td>\n",
              "      <td>0.17</td>\n",
              "      <td>1</td>\n",
              "      <td>新客</td>\n",
              "    </tr>\n",
              "    <tr>\n",
              "      <th>...</th>\n",
              "      <td>...</td>\n",
              "      <td>...</td>\n",
              "      <td>...</td>\n",
              "      <td>...</td>\n",
              "    </tr>\n",
              "    <tr>\n",
              "      <th>65466</th>\n",
              "      <td>566256174</td>\n",
              "      <td>1.02</td>\n",
              "      <td>2</td>\n",
              "      <td>常貴客</td>\n",
              "    </tr>\n",
              "    <tr>\n",
              "      <th>65467</th>\n",
              "      <td>566256723</td>\n",
              "      <td>0.51</td>\n",
              "      <td>1</td>\n",
              "      <td>量販客</td>\n",
              "    </tr>\n",
              "    <tr>\n",
              "      <th>65468</th>\n",
              "      <td>566265448</td>\n",
              "      <td>0.22</td>\n",
              "      <td>1</td>\n",
              "      <td>新客</td>\n",
              "    </tr>\n",
              "    <tr>\n",
              "      <th>65469</th>\n",
              "      <td>566274637</td>\n",
              "      <td>0.76</td>\n",
              "      <td>1</td>\n",
              "      <td>量販客</td>\n",
              "    </tr>\n",
              "    <tr>\n",
              "      <th>65470</th>\n",
              "      <td>566278294</td>\n",
              "      <td>0.63</td>\n",
              "      <td>1</td>\n",
              "      <td>量販客</td>\n",
              "    </tr>\n",
              "  </tbody>\n",
              "</table>\n",
              "<p>65471 rows × 4 columns</p>\n",
              "</div>"
            ],
            "text/plain": [
              "         user_id price_percentage(%)  frequency customer\n",
              "0      403013066                0.22          1       新客\n",
              "1      410333972                0.22          1       新客\n",
              "2      418115333                0.05          1       新客\n",
              "3      435786120                0.16          1       新客\n",
              "4      444316141                0.17          1       新客\n",
              "...          ...                 ...        ...      ...\n",
              "65466  566256174                1.02          2      常貴客\n",
              "65467  566256723                0.51          1      量販客\n",
              "65468  566265448                0.22          1       新客\n",
              "65469  566274637                0.76          1      量販客\n",
              "65470  566278294                0.63          1      量販客\n",
              "\n",
              "[65471 rows x 4 columns]"
            ]
          },
          "metadata": {
            "tags": []
          },
          "execution_count": 98
        }
      ]
    },
    {
      "cell_type": "code",
      "metadata": {
        "colab": {
          "base_uri": "https://localhost:8080/"
        },
        "id": "Q6flooLWHj9E",
        "outputId": "8ba8146e-4195-42aa-938c-310b05cf23bd"
      },
      "source": [
        "z=fm_list[\"price_percentage(%)\"].median()\r\n",
        "z"
      ],
      "execution_count": null,
      "outputs": [
        {
          "output_type": "execute_result",
          "data": {
            "text/plain": [
              "0.37"
            ]
          },
          "metadata": {
            "tags": []
          },
          "execution_count": 99
        }
      ]
    },
    {
      "cell_type": "code",
      "metadata": {
        "colab": {
          "base_uri": "https://localhost:8080/"
        },
        "id": "ZIR4wLQWJJaH",
        "outputId": "d0ef11fb-4ad7-4011-f350-39adf99ed2d6"
      },
      "source": [
        "n=fm_list[\"frequency\"].median()\r\n",
        "n"
      ],
      "execution_count": null,
      "outputs": [
        {
          "output_type": "execute_result",
          "data": {
            "text/plain": [
              "1.0"
            ]
          },
          "metadata": {
            "tags": []
          },
          "execution_count": 100
        }
      ]
    },
    {
      "cell_type": "code",
      "metadata": {
        "colab": {
          "base_uri": "https://localhost:8080/"
        },
        "id": "RbXIm-Y9XwKC",
        "outputId": "2ec635c6-bbec-4e51-95c9-6766ffd7c2f3"
      },
      "source": [
        "# Colab 進行matplotlib繪圖時顯示繁體中文\r\n",
        "# 下載台北思源黑體並命名taipei_sans_tc_beta.ttf，移至指定路徑\r\n",
        "!wget -O taipei_sans_tc_beta.ttf https://drive.google.com/uc?id=1eGAsTN1HBpJAkeVM57_C7ccp7hbgSz3_&export=download\r\n",
        "!mv taipei_sans_tc_beta.ttf /usr/local/lib/python3.6/dist-packages/matplotlib//mpl-data/fonts/ttf\r\n",
        "\r\n",
        "from matplotlib.font_manager import FontProperties\r\n",
        "import matplotlib.pyplot as plt \r\n",
        "\r\n",
        "# 自定義字體變數\r\n",
        "myfont = FontProperties(fname=r'/usr/local/lib/python3.6/dist-packages/matplotlib/mpl-data/fonts/ttf/taipei_sans_tc_beta.ttf')\r\n",
        "\r\n",
        "# !!!!後續在相關函式中增加fontproperties=myfont屬性即可!!!!"
      ],
      "execution_count": null,
      "outputs": [
        {
          "output_type": "stream",
          "text": [
            "--2021-01-24 07:49:53--  https://drive.google.com/uc?id=1eGAsTN1HBpJAkeVM57_C7ccp7hbgSz3_\n",
            "Resolving drive.google.com (drive.google.com)... 172.217.212.138, 172.217.212.100, 172.217.212.113, ...\n",
            "Connecting to drive.google.com (drive.google.com)|172.217.212.138|:443... connected.\n",
            "HTTP request sent, awaiting response... 302 Moved Temporarily\n",
            "Location: https://doc-0k-9o-docs.googleusercontent.com/docs/securesc/ha0ro937gcuc7l7deffksulhg5h7mbp1/m8rjfp77lkq2eid019gjqdkg218g80d7/1611474525000/02847987870453524430/*/1eGAsTN1HBpJAkeVM57_C7ccp7hbgSz3_ [following]\n",
            "Warning: wildcards not supported in HTTP.\n",
            "--2021-01-24 07:49:55--  https://doc-0k-9o-docs.googleusercontent.com/docs/securesc/ha0ro937gcuc7l7deffksulhg5h7mbp1/m8rjfp77lkq2eid019gjqdkg218g80d7/1611474525000/02847987870453524430/*/1eGAsTN1HBpJAkeVM57_C7ccp7hbgSz3_\n",
            "Resolving doc-0k-9o-docs.googleusercontent.com (doc-0k-9o-docs.googleusercontent.com)... 172.217.214.132, 2607:f8b0:4001:c05::84\n",
            "Connecting to doc-0k-9o-docs.googleusercontent.com (doc-0k-9o-docs.googleusercontent.com)|172.217.214.132|:443... connected.\n",
            "HTTP request sent, awaiting response... 200 OK\n",
            "Length: unspecified [application/x-font-ttf]\n",
            "Saving to: ‘taipei_sans_tc_beta.ttf’\n",
            "\n",
            "taipei_sans_tc_beta     [  <=>               ]  19.70M  70.9MB/s    in 0.3s    \n",
            "\n",
            "2021-01-24 07:49:55 (70.9 MB/s) - ‘taipei_sans_tc_beta.ttf’ saved [20659344]\n",
            "\n"
          ],
          "name": "stdout"
        }
      ]
    },
    {
      "cell_type": "code",
      "metadata": {
        "id": "BdKW7mloXr81"
      },
      "source": [
        "textprops = dict(FontProperties=myfont) "
      ],
      "execution_count": null,
      "outputs": []
    },
    {
      "cell_type": "code",
      "metadata": {
        "id": "i8LSAkFEch-S"
      },
      "source": [
        "#moneytary[\"price_percentage\"].max()\r\n"
      ],
      "execution_count": null,
      "outputs": []
    },
    {
      "cell_type": "code",
      "metadata": {
        "colab": {
          "base_uri": "https://localhost:8080/",
          "height": 279
        },
        "id": "83R2rAlV1ER-",
        "outputId": "20a5d081-4e6d-4cd3-d3d2-9ff476619061"
      },
      "source": [
        "#autopct=最後面的(%%)百分比符號\r\n",
        "#fig, ax = plt.subplot()\r\n",
        "text=[\"這是常客\",\"這是常貴客\",\"這是新客\",\"這是量販客\"]\r\n",
        "fmpie = fm_list[['user_id','customer']].groupby(\"customer\", as_index = True).sum()\r\n",
        "fmpie.plot.pie(subplots=True,figsize=(4,4),textprops=textprops,autopct='%.2f%%',labeldistance=None,explode=(0.1,0.1,0.1,0.1),shadow=True,fontsize=15) # 只爆炸第二块饼，爆炸距离是半径的0.1。\r\n",
        "#for i in range(len(text)):\r\n",
        "#  plt.annotate(text[i],xy=(x,y),xytext=(2*np.sign(x),2*y),fontproperties=myfont,xycoords='data')\r\n",
        "plt.title(\"購買頻率與銷售額關係圖\",fontdict=textprops)\r\n",
        "plt.legend(prop=myfont,bbox_to_anchor=(1, 1))\r\n",
        "plt.axis('off')\r\n",
        "#plt.legend(prop=myfont)"
      ],
      "execution_count": null,
      "outputs": [
        {
          "output_type": "execute_result",
          "data": {
            "text/plain": [
              "(-1.25, 1.25, -1.25, 1.25)"
            ]
          },
          "metadata": {
            "tags": []
          },
          "execution_count": 110
        },
        {
          "output_type": "display_data",
          "data": {
            "image/png": "[encoded data removed]",
            "text/plain": [
              "<Figure size 288x288 with 1 Axes>"
            ]
          },
          "metadata": {
            "tags": []
          }
        }
      ]
    },
    {
      "cell_type": "code",
      "metadata": {
        "colab": {
          "base_uri": "https://localhost:8080/"
        },
        "id": "-pVTcIVmnzW6",
        "outputId": "7828513f-0f0c-46d4-fda8-1dcd6424bad7"
      },
      "source": [
        "!pip install tkinter "
      ],
      "execution_count": null,
      "outputs": [
        {
          "output_type": "stream",
          "text": [
            "\u001b[31mERROR: Could not find a version that satisfies the requirement tkinter (from versions: none)\u001b[0m\n",
            "\u001b[31mERROR: No matching distribution found for tkinter\u001b[0m\n"
          ],
          "name": "stdout"
        }
      ]
    },
    {
      "cell_type": "code",
      "metadata": {
        "colab": {
          "base_uri": "https://localhost:8080/"
        },
        "id": "Wz2xBeevUxIe",
        "outputId": "3317228d-0f21-4e38-f9a6-ee18282bb663"
      },
      "source": [
        "def file():\r\n",
        "  savefile = input(\"請輸入你想要的名單,如:新客名單,常客名單,常貴客名單,量販客名單:\")\r\n",
        "  try:\r\n",
        "    if savefile=='新客名單':\r\n",
        "      x1=fm_list.query('customer == \"新客\"')\r\n",
        "      x1=x1[['user_id','customer']]\r\n",
        "      x1.to_csv(\"新客名單\",encoding=\"utf-8\")\r\n",
        "      print(\"新客名單儲存成功!\")\r\n",
        "    elif savefile=='常客名單':\r\n",
        "      x2=fm_list.query('customer == \"常客\"')\r\n",
        "      x2=x2[['user_id','customer']]\r\n",
        "      x2.to_csv(\"常客名單\",encoding=\"utf-8\")\r\n",
        "      print(\"常客名單儲存成功!\")\r\n",
        "    elif savefile=='常貴客名單':\r\n",
        "      x3=fm_list.query('customer == \"常貴客\"')\r\n",
        "      x3=x3[['user_id','customer']]\r\n",
        "      x3.to_csv(\"常貴客名單\",encoding=\"utf-8\")\r\n",
        "      print(\"常貴客名單儲存成功!\")\r\n",
        "    elif savefile=='量販客名單':\r\n",
        "      x4=fm_list.query('customer == \"量販客\"')\r\n",
        "      x4=x4[['user_id','customer']]\r\n",
        "      x4.to_csv(\"量販客名單\",encoding=\"utf-8\")\r\n",
        "      print(\"量販客名單儲存成功!\")\r\n",
        "    elif savefile=='0':\r\n",
        "      exit(0)\r\n",
        "    else:\r\n",
        "      print(\"請輸入正確格式,若要離開請輸入0\") \r\n",
        "      file()\r\n",
        "  except TypeError:\r\n",
        "    print(\"輸入型態錯誤!\")\r\n",
        "    file()\r\n",
        "file()\r\n",
        "\r\n",
        "#tkMessageBox.askyesno('儲存檔案', '是否要儲存檔案?', parent=root_window)"
      ],
      "execution_count": null,
      "outputs": [
        {
          "output_type": "stream",
          "text": [
            "請輸入你想要的名單,如:新客名單,常客名單,常貴客名單,量販客名單555\n",
            "請輸入正確格式,若要離開請輸入0\n",
            "請輸入你想要的名單,如:新客名單,常客名單,常貴客名單,量販客名單0\n"
          ],
          "name": "stdout"
        }
      ]
    },
    {
      "cell_type": "code",
      "metadata": {
        "id": "S47hTzh963oI",
        "colab": {
          "base_uri": "https://localhost:8080/",
          "height": 52
        },
        "outputId": "d0ab72ae-2845-43cd-836a-c2f29c86b8df"
      },
      "source": [
        "'''\r\n",
        "range()返回的是range object，而np.nrange()返回的是numpy.ndarray()\r\n",
        "range儘可用於迭代，而np.nrange作用遠不止於此，它是一個序列，可被當做向量使用。\r\n",
        "\r\n",
        "range()不支援步長為小數，np.arange()支援步長為小數\r\n",
        "\r\n",
        "兩者都可用於迭代\r\n",
        "\r\n",
        "兩者都有三個引數，以第一個引數為起點，第三個引數為步長，截止到第二個引數之前的不包括第二個引數的資料序列\r\n",
        "'''"
      ],
      "execution_count": null,
      "outputs": [
        {
          "output_type": "execute_result",
          "data": {
            "application/vnd.google.colaboratory.intrinsic+json": {
              "type": "string"
            },
            "text/plain": [
              "'\\nrange()返回的是range object，而np.nrange()返回的是numpy.ndarray()\\nrange儘可用於迭代，而np.nrange作用遠不止於此，它是一個序列，可被當做向量使用。\\n\\nrange()不支援步長為小數，np.arange()支援步長為小數\\n\\n兩者都可用於迭代\\n\\n兩者都有三個引數，以第一個引數為起點，第三個引數為步長，截止到第二個引數之前的不包括第二個引數的資料序列\\n'"
            ]
          },
          "metadata": {
            "tags": []
          },
          "execution_count": 107
        }
      ]
    },
    {
      "cell_type": "code",
      "metadata": {
        "id": "UnWgbQQu2TiQ",
        "colab": {
          "base_uri": "https://localhost:8080/",
          "height": 137
        },
        "outputId": "95376011-cf4a-4835-c741-cf156ac26b0c"
      },
      "source": [
        "'''\r\n",
        "#as_index=False 時，索引就變成了自動生成的數字索引\r\n",
        "# 找出每個顧客最近一次的購買日期\r\n",
        "#recency這時的order_date是字符串\r\n",
        "recent_recency = purchase_list.groupby(\"user_id\", as_index = False)['order_date'].max()\r\n",
        "recent_recency['order_date']=recent_recency['order_date'].apply(lambda _: datetime.datetime.strptime(_,\"%Y-%m-%d\")) #這時將字串變成datetime格式\r\n",
        "# 計算消費者至今再次購買與上次購買產品的時間差'\r\n",
        "recent_recency['recency'] =( theToday - recent_recency['order_date'] ).astype(str)\r\n",
        "#可以透過iloc[索引號]來抽樣查看列的值\r\n",
        "#例如:recent_recency.iloc[110:120]\r\n",
        "recent_recency['recency']=recent_recency['recency'].str.replace('days.*','',regex=True)  #<==這行主要是將days的字符去除\r\n",
        "recent_recency['recency'] = recent_recency['recency'].astype(int) #將欄位全部轉成int\r\n",
        "#recent_recency['recency'].dtypes\r\n",
        "#print(purchase_list['order_date'].dtypes)\r\n",
        "purchase_list['order_date'] = pd.to_datetime(purchase_list['order_date']) #因為上面的strf將時間返回字符串所以這邊再將字串轉成datetime格式\r\n",
        "#合併 recency\r\n",
        "purchase_list = recent_recency.merge(purchase_list, # 即將合併上去的資料表\r\n",
        "                  on = ['user_id', 'order_date'] # 兩表間連接的key\r\n",
        "                  ,how='inner') # 合併的方式,預設只把相同的部分留下來 (inner 模式)\r\n",
        "purchase_list =purchase_list.merge(frequency, # 即將合併上去的資料表\r\n",
        "                  on = ['user_id'] # 兩表間連接的key\r\n",
        "                  ,how='inner') # 合併的方式\r\n",
        "purchase_list\r\n",
        "'''"
      ],
      "execution_count": null,
      "outputs": [
        {
          "output_type": "execute_result",
          "data": {
            "application/vnd.google.colaboratory.intrinsic+json": {
              "type": "string"
            },
            "text/plain": [
              "'\\n#as_index=False 時，索引就變成了自動生成的數字索引\\n# 找出每個顧客最近一次的購買日期\\n#recency這時的order_date是字符串\\nrecent_recency = purchase_list.groupby(\"user_id\", as_index = False)[\\'order_date\\'].max()\\nrecent_recency[\\'order_date\\']=recent_recency[\\'order_date\\'].apply(lambda _: datetime.datetime.strptime(_,\"%Y-%m-%d\")) #這時將字串變成datetime格式\\n# 計算消費者至今再次購買與上次購買產品的時間差\\'\\nrecent_recency[\\'recency\\'] =( theToday - recent_recency[\\'order_date\\'] ).astype(str)\\n#可以透過iloc[索引號]來抽樣查看列的值\\n#例如:recent_recency.iloc[110:120]\\nrecent_recency[\\'recency\\']=recent_recency[\\'recency\\'].str.replace(\\'days.*\\',\\'\\',regex=True)  #<==這行主要是將days的字符去除\\nrecent_recency[\\'recency\\'] = recent_recency[\\'recency\\'].astype(int) #將欄位全部轉成int\\n#recent_recency[\\'recency\\'].dtypes\\n#print(purchase_list[\\'order_date\\'].dtypes)\\npurchase_list[\\'order_date\\'] = pd.to_datetime(purchase_list[\\'order_date\\']) #因為上面的strf將時間返回字符串所以這邊再將字串轉成datetime格式\\n#合併 recency\\npurchase_list = recent_recency.merge(purchase_list, # 即將合併上去的資料表\\n                  on = [\\'user_id\\', \\'order_date\\'] # 兩表間連接的key\\n                  ,how=\\'inner\\') # 合併的方式,預設只把相同的部分留下來 (inner 模式)\\npurchase_list =purchase_list.merge(frequency, # 即將合併上去的資料表\\n                  on = [\\'user_id\\'] # 兩表間連接的key\\n                  ,how=\\'inner\\') # 合併的方式\\npurchase_list\\n'"
            ]
          },
          "metadata": {
            "tags": []
          },
          "execution_count": 108
        }
      ]
    }
  ]
}